{
 "cells": [
  {
   "cell_type": "code",
   "execution_count": 2,
   "metadata": {},
   "outputs": [],
   "source": [
    "import pandas as pd\n",
    "import numpy as np\n",
    "import matplotlib.pyplot as plt\n",
    "import scipy.linalg\n",
    "import sklearn\n",
    "import matplotlib.pyplot as plt\n",
    "from sklearn import preprocessing\n",
    "import random\n",
    "from scipy.spatial import distance\n",
    "from sklearn import cluster\n",
    "from sklearn.decomposition import PCA\n",
    "from sklearn.metrics import confusion_matrix\n",
    "import datetime"
   ]
  },
  {
   "cell_type": "markdown",
   "metadata": {},
   "source": [
    "## 2. Grouping songs together!"
   ]
  },
  {
   "cell_type": "markdown",
   "metadata": {},
   "source": [
    "### 2.1 Getting your data!"
   ]
  },
  {
   "cell_type": "code",
   "execution_count": 3,
   "metadata": {},
   "outputs": [],
   "source": [
    "echonest = pd.read_csv('echonest.csv')\n",
    "features = pd.read_csv('features.csv')\n",
    "tracks = pd.read_csv('tracks.csv')"
   ]
  },
  {
   "cell_type": "code",
   "execution_count": 12,
   "metadata": {},
   "outputs": [
    {
     "name": "stdout",
     "output_type": "stream",
     "text": [
      "(13129, 250)\n",
      "(106574, 519)\n",
      "(106574, 53)\n"
     ]
    }
   ],
   "source": [
    "print(echonest.shape)\n",
    "print(features.shape)\n",
    "print(tracks.shape)"
   ]
  },
  {
   "cell_type": "code",
   "execution_count": 13,
   "metadata": {},
   "outputs": [],
   "source": [
    "# Merge the dataset in order to have information about echonest track (left merge - index of echonest)\n",
    "# We merge with the key = 'track_id'\n",
    "merged_df = pd.merge(pd.merge(echonest, features, on='track_id', how='left'), tracks, on='track_id', how='left')\n",
    "# We store the merged dataset to avoid to compute it each time\n",
    "merged_df.to_csv('merged_df.csv')"
   ]
  },
  {
   "cell_type": "code",
   "execution_count": 14,
   "metadata": {},
   "outputs": [
    {
     "data": {
      "text/html": [
       "<div>\n",
       "<style scoped>\n",
       "    .dataframe tbody tr th:only-of-type {\n",
       "        vertical-align: middle;\n",
       "    }\n",
       "\n",
       "    .dataframe tbody tr th {\n",
       "        vertical-align: top;\n",
       "    }\n",
       "\n",
       "    .dataframe thead th {\n",
       "        text-align: right;\n",
       "    }\n",
       "</style>\n",
       "<table border=\"1\" class=\"dataframe\">\n",
       "  <thead>\n",
       "    <tr style=\"text-align: right;\">\n",
       "      <th></th>\n",
       "      <th>track_id</th>\n",
       "      <th>audio_features_acousticness</th>\n",
       "      <th>audio_features_danceability</th>\n",
       "      <th>audio_features_energy</th>\n",
       "      <th>audio_features_instrumentalness</th>\n",
       "      <th>audio_features_liveness</th>\n",
       "      <th>audio_features_speechiness</th>\n",
       "      <th>audio_features_tempo</th>\n",
       "      <th>audio_features_valence</th>\n",
       "      <th>metadata_artist_latitude</th>\n",
       "      <th>...</th>\n",
       "      <th>artist_id</th>\n",
       "      <th>artist_latitude</th>\n",
       "      <th>artist_longitude</th>\n",
       "      <th>track_bit_rate</th>\n",
       "      <th>track_comments</th>\n",
       "      <th>track_duration</th>\n",
       "      <th>track_favorites</th>\n",
       "      <th>track_interest</th>\n",
       "      <th>track_listens</th>\n",
       "      <th>track_number</th>\n",
       "    </tr>\n",
       "  </thead>\n",
       "  <tbody>\n",
       "    <tr>\n",
       "      <th>count</th>\n",
       "      <td>13129.000000</td>\n",
       "      <td>1.312900e+04</td>\n",
       "      <td>13129.000000</td>\n",
       "      <td>13129.000000</td>\n",
       "      <td>13129.000000</td>\n",
       "      <td>13129.000000</td>\n",
       "      <td>13129.000000</td>\n",
       "      <td>13129.000000</td>\n",
       "      <td>13129.000000</td>\n",
       "      <td>9770.000000</td>\n",
       "      <td>...</td>\n",
       "      <td>13129.000000</td>\n",
       "      <td>8052.000000</td>\n",
       "      <td>8052.000000</td>\n",
       "      <td>13129.000000</td>\n",
       "      <td>13129.000000</td>\n",
       "      <td>13129.000000</td>\n",
       "      <td>13129.000000</td>\n",
       "      <td>1.312900e+04</td>\n",
       "      <td>13129.000000</td>\n",
       "      <td>13129.000000</td>\n",
       "    </tr>\n",
       "    <tr>\n",
       "      <th>mean</th>\n",
       "      <td>34031.058268</td>\n",
       "      <td>5.246876e-01</td>\n",
       "      <td>0.487290</td>\n",
       "      <td>0.537516</td>\n",
       "      <td>0.640536</td>\n",
       "      <td>0.187804</td>\n",
       "      <td>0.099174</td>\n",
       "      <td>123.080061</td>\n",
       "      <td>0.439761</td>\n",
       "      <td>39.961892</td>\n",
       "      <td>...</td>\n",
       "      <td>6303.865641</td>\n",
       "      <td>40.144635</td>\n",
       "      <td>-49.099826</td>\n",
       "      <td>248580.807068</td>\n",
       "      <td>0.044558</td>\n",
       "      <td>249.013558</td>\n",
       "      <td>4.310305</td>\n",
       "      <td>3.784447e+03</td>\n",
       "      <td>2147.068703</td>\n",
       "      <td>5.608500</td>\n",
       "    </tr>\n",
       "    <tr>\n",
       "      <th>std</th>\n",
       "      <td>28950.422182</td>\n",
       "      <td>3.837186e-01</td>\n",
       "      <td>0.190148</td>\n",
       "      <td>0.278049</td>\n",
       "      <td>0.361430</td>\n",
       "      <td>0.158051</td>\n",
       "      <td>0.137381</td>\n",
       "      <td>35.015137</td>\n",
       "      <td>0.276028</td>\n",
       "      <td>15.554275</td>\n",
       "      <td>...</td>\n",
       "      <td>4974.103114</td>\n",
       "      <td>15.603089</td>\n",
       "      <td>57.881761</td>\n",
       "      <td>63834.230395</td>\n",
       "      <td>0.494095</td>\n",
       "      <td>207.268166</td>\n",
       "      <td>20.884705</td>\n",
       "      <td>3.396744e+04</td>\n",
       "      <td>9434.471644</td>\n",
       "      <td>6.108004</td>\n",
       "    </tr>\n",
       "    <tr>\n",
       "      <th>min</th>\n",
       "      <td>2.000000</td>\n",
       "      <td>9.035000e-07</td>\n",
       "      <td>0.051307</td>\n",
       "      <td>0.000020</td>\n",
       "      <td>0.000000</td>\n",
       "      <td>0.025297</td>\n",
       "      <td>0.022324</td>\n",
       "      <td>12.753000</td>\n",
       "      <td>0.000010</td>\n",
       "      <td>-45.867100</td>\n",
       "      <td>...</td>\n",
       "      <td>1.000000</td>\n",
       "      <td>-43.532054</td>\n",
       "      <td>-123.114034</td>\n",
       "      <td>-1.000000</td>\n",
       "      <td>0.000000</td>\n",
       "      <td>18.000000</td>\n",
       "      <td>0.000000</td>\n",
       "      <td>6.300000e+01</td>\n",
       "      <td>12.000000</td>\n",
       "      <td>0.000000</td>\n",
       "    </tr>\n",
       "    <tr>\n",
       "      <th>25%</th>\n",
       "      <td>12986.000000</td>\n",
       "      <td>1.037726e-01</td>\n",
       "      <td>0.344759</td>\n",
       "      <td>0.321300</td>\n",
       "      <td>0.323466</td>\n",
       "      <td>0.101406</td>\n",
       "      <td>0.036932</td>\n",
       "      <td>95.967000</td>\n",
       "      <td>0.197321</td>\n",
       "      <td>37.784827</td>\n",
       "      <td>...</td>\n",
       "      <td>2203.000000</td>\n",
       "      <td>37.871166</td>\n",
       "      <td>-85.111004</td>\n",
       "      <td>192000.000000</td>\n",
       "      <td>0.000000</td>\n",
       "      <td>156.000000</td>\n",
       "      <td>0.000000</td>\n",
       "      <td>6.700000e+02</td>\n",
       "      <td>299.000000</td>\n",
       "      <td>2.000000</td>\n",
       "    </tr>\n",
       "    <tr>\n",
       "      <th>50%</th>\n",
       "      <td>28097.000000</td>\n",
       "      <td>5.739848e-01</td>\n",
       "      <td>0.485635</td>\n",
       "      <td>0.549113</td>\n",
       "      <td>0.838134</td>\n",
       "      <td>0.119002</td>\n",
       "      <td>0.049019</td>\n",
       "      <td>120.057000</td>\n",
       "      <td>0.417743</td>\n",
       "      <td>40.781400</td>\n",
       "      <td>...</td>\n",
       "      <td>5442.000000</td>\n",
       "      <td>40.714550</td>\n",
       "      <td>-73.950000</td>\n",
       "      <td>256000.000000</td>\n",
       "      <td>0.000000</td>\n",
       "      <td>214.000000</td>\n",
       "      <td>1.000000</td>\n",
       "      <td>1.351000e+03</td>\n",
       "      <td>694.000000</td>\n",
       "      <td>4.000000</td>\n",
       "    </tr>\n",
       "    <tr>\n",
       "      <th>75%</th>\n",
       "      <td>45021.000000</td>\n",
       "      <td>9.207270e-01</td>\n",
       "      <td>0.629094</td>\n",
       "      <td>0.776254</td>\n",
       "      <td>0.918244</td>\n",
       "      <td>0.211041</td>\n",
       "      <td>0.085452</td>\n",
       "      <td>145.318000</td>\n",
       "      <td>0.665575</td>\n",
       "      <td>47.254575</td>\n",
       "      <td>...</td>\n",
       "      <td>9288.000000</td>\n",
       "      <td>47.218371</td>\n",
       "      <td>-0.045680</td>\n",
       "      <td>320000.000000</td>\n",
       "      <td>0.000000</td>\n",
       "      <td>282.000000</td>\n",
       "      <td>4.000000</td>\n",
       "      <td>2.948000e+03</td>\n",
       "      <td>1714.000000</td>\n",
       "      <td>8.000000</td>\n",
       "    </tr>\n",
       "    <tr>\n",
       "      <th>max</th>\n",
       "      <td>124911.000000</td>\n",
       "      <td>9.957965e-01</td>\n",
       "      <td>0.968645</td>\n",
       "      <td>0.999964</td>\n",
       "      <td>0.998016</td>\n",
       "      <td>0.980330</td>\n",
       "      <td>0.966177</td>\n",
       "      <td>251.072000</td>\n",
       "      <td>0.999990</td>\n",
       "      <td>68.927500</td>\n",
       "      <td>...</td>\n",
       "      <td>20818.000000</td>\n",
       "      <td>65.201935</td>\n",
       "      <td>174.885971</td>\n",
       "      <td>448000.000000</td>\n",
       "      <td>37.000000</td>\n",
       "      <td>3033.000000</td>\n",
       "      <td>1482.000000</td>\n",
       "      <td>3.293557e+06</td>\n",
       "      <td>543252.000000</td>\n",
       "      <td>213.000000</td>\n",
       "    </tr>\n",
       "  </tbody>\n",
       "</table>\n",
       "<p>8 rows × 780 columns</p>\n",
       "</div>"
      ],
      "text/plain": [
       "            track_id  audio_features_acousticness  \\\n",
       "count   13129.000000                 1.312900e+04   \n",
       "mean    34031.058268                 5.246876e-01   \n",
       "std     28950.422182                 3.837186e-01   \n",
       "min         2.000000                 9.035000e-07   \n",
       "25%     12986.000000                 1.037726e-01   \n",
       "50%     28097.000000                 5.739848e-01   \n",
       "75%     45021.000000                 9.207270e-01   \n",
       "max    124911.000000                 9.957965e-01   \n",
       "\n",
       "       audio_features_danceability  audio_features_energy  \\\n",
       "count                 13129.000000           13129.000000   \n",
       "mean                      0.487290               0.537516   \n",
       "std                       0.190148               0.278049   \n",
       "min                       0.051307               0.000020   \n",
       "25%                       0.344759               0.321300   \n",
       "50%                       0.485635               0.549113   \n",
       "75%                       0.629094               0.776254   \n",
       "max                       0.968645               0.999964   \n",
       "\n",
       "       audio_features_instrumentalness  audio_features_liveness  \\\n",
       "count                     13129.000000             13129.000000   \n",
       "mean                          0.640536                 0.187804   \n",
       "std                           0.361430                 0.158051   \n",
       "min                           0.000000                 0.025297   \n",
       "25%                           0.323466                 0.101406   \n",
       "50%                           0.838134                 0.119002   \n",
       "75%                           0.918244                 0.211041   \n",
       "max                           0.998016                 0.980330   \n",
       "\n",
       "       audio_features_speechiness  audio_features_tempo  \\\n",
       "count                13129.000000          13129.000000   \n",
       "mean                     0.099174            123.080061   \n",
       "std                      0.137381             35.015137   \n",
       "min                      0.022324             12.753000   \n",
       "25%                      0.036932             95.967000   \n",
       "50%                      0.049019            120.057000   \n",
       "75%                      0.085452            145.318000   \n",
       "max                      0.966177            251.072000   \n",
       "\n",
       "       audio_features_valence  metadata_artist_latitude  ...     artist_id  \\\n",
       "count            13129.000000               9770.000000  ...  13129.000000   \n",
       "mean                 0.439761                 39.961892  ...   6303.865641   \n",
       "std                  0.276028                 15.554275  ...   4974.103114   \n",
       "min                  0.000010                -45.867100  ...      1.000000   \n",
       "25%                  0.197321                 37.784827  ...   2203.000000   \n",
       "50%                  0.417743                 40.781400  ...   5442.000000   \n",
       "75%                  0.665575                 47.254575  ...   9288.000000   \n",
       "max                  0.999990                 68.927500  ...  20818.000000   \n",
       "\n",
       "       artist_latitude  artist_longitude  track_bit_rate  track_comments  \\\n",
       "count      8052.000000       8052.000000    13129.000000    13129.000000   \n",
       "mean         40.144635        -49.099826   248580.807068        0.044558   \n",
       "std          15.603089         57.881761    63834.230395        0.494095   \n",
       "min         -43.532054       -123.114034       -1.000000        0.000000   \n",
       "25%          37.871166        -85.111004   192000.000000        0.000000   \n",
       "50%          40.714550        -73.950000   256000.000000        0.000000   \n",
       "75%          47.218371         -0.045680   320000.000000        0.000000   \n",
       "max          65.201935        174.885971   448000.000000       37.000000   \n",
       "\n",
       "       track_duration  track_favorites  track_interest  track_listens  \\\n",
       "count    13129.000000     13129.000000    1.312900e+04   13129.000000   \n",
       "mean       249.013558         4.310305    3.784447e+03    2147.068703   \n",
       "std        207.268166        20.884705    3.396744e+04    9434.471644   \n",
       "min         18.000000         0.000000    6.300000e+01      12.000000   \n",
       "25%        156.000000         0.000000    6.700000e+02     299.000000   \n",
       "50%        214.000000         1.000000    1.351000e+03     694.000000   \n",
       "75%        282.000000         4.000000    2.948000e+03    1714.000000   \n",
       "max       3033.000000      1482.000000    3.293557e+06  543252.000000   \n",
       "\n",
       "       track_number  \n",
       "count  13129.000000  \n",
       "mean       5.608500  \n",
       "std        6.108004  \n",
       "min        0.000000  \n",
       "25%        2.000000  \n",
       "50%        4.000000  \n",
       "75%        8.000000  \n",
       "max      213.000000  \n",
       "\n",
       "[8 rows x 780 columns]"
      ]
     },
     "execution_count": 14,
     "metadata": {},
     "output_type": "execute_result"
    }
   ],
   "source": [
    "merged_df.describe()"
   ]
  },
  {
   "cell_type": "code",
   "execution_count": 92,
   "metadata": {},
   "outputs": [
    {
     "data": {
      "text/plain": [
       "(13129, 821)"
      ]
     },
     "execution_count": 92,
     "metadata": {},
     "output_type": "execute_result"
    }
   ],
   "source": [
    "# to avoid to merge each time\n",
    "merged_df = pd.read_csv('merged_df.csv')\n",
    "merged_df.shape"
   ]
  },
  {
   "cell_type": "markdown",
   "metadata": {},
   "source": [
    "### 2.2 Choose your features (variables)! TO DO"
   ]
  },
  {
   "cell_type": "code",
   "execution_count": 93,
   "metadata": {},
   "outputs": [],
   "source": [
    "#drop columns with too few values (less than the half)\n",
    "#drop the columns with 'genre' in the name\n",
    "\n",
    "col_dropped=[]\n",
    "for col in merged_df.columns:\n",
    "    nb_missed = merged_df[col].isna().sum() \n",
    "    n = merged_df.shape[0]\n",
    "    if nb_missed > 7500 :\n",
    "        col_dropped.append(col)\n",
    "        merged_df.drop([col], axis = 1, inplace = True)\n",
    "    \n",
    "    if 'genre' in col :\n",
    "        col_dropped.append(col)\n",
    "        merged_df.drop([col], axis = 1, inplace = True)\n"
   ]
  },
  {
   "cell_type": "code",
   "execution_count": 94,
   "metadata": {},
   "outputs": [
    {
     "name": "stdout",
     "output_type": "stream",
     "text": [
      "['metadata_album_date', 'metadata_album_name', 'ranks_artist_discovery_rank', 'ranks_artist_familiarity_rank', 'ranks_artist_hotttnesss_rank', 'ranks_song_currency_rank', 'ranks_song_hotttnesss_rank', 'album_engineer', 'album_producer', 'artist_active_year_begin', 'artist_active_year_end', 'artist_associated_labels', 'artist_related_projects', 'artist_wikipedia_page', 'track_composer', 'track_date_recorded', 'track_genre_top', 'track_genres', 'track_genres_all', 'track_information', 'track_lyricist', 'track_publisher']\n"
     ]
    }
   ],
   "source": [
    "#print dropped column to be sure to not drop a very relevant attribute\n",
    "print(col_dropped)"
   ]
  },
  {
   "cell_type": "markdown",
   "metadata": {},
   "source": [
    "#### Encode the values"
   ]
  },
  {
   "cell_type": "code",
   "execution_count": 95,
   "metadata": {},
   "outputs": [],
   "source": [
    "# for variables which represent dates we will use the datetime type and transform it in numerical values\n",
    "res = []\n",
    "for col in merged_df.columns:\n",
    "    if ('date' in col) or ('year' in col):\n",
    "        merged_df[col] = pd.to_numeric(pd.to_datetime(merged_df[col], format = \"%Y-%m-%d\"))\n"
   ]
  },
  {
   "cell_type": "code",
   "execution_count": 96,
   "metadata": {},
   "outputs": [
    {
     "name": "stdout",
     "output_type": "stream",
     "text": [
      "<class 'pandas.core.frame.DataFrame'>\n",
      "RangeIndex: 13129 entries, 0 to 13128\n",
      "Data columns (total 799 columns):\n",
      " #    Column                              Dtype  \n",
      "---   ------                              -----  \n",
      " 0    Unnamed: 0                          int64  \n",
      " 1    track_id                            int64  \n",
      " 2    audio_features_acousticness         float64\n",
      " 3    audio_features_danceability         float64\n",
      " 4    audio_features_energy               float64\n",
      " 5    audio_features_instrumentalness     float64\n",
      " 6    audio_features_liveness             float64\n",
      " 7    audio_features_speechiness          float64\n",
      " 8    audio_features_tempo                float64\n",
      " 9    audio_features_valence              float64\n",
      " 10   metadata_artist_latitude            float64\n",
      " 11   metadata_artist_location            object \n",
      " 12   metadata_artist_longitude           float64\n",
      " 13   metadata_artist_name                object \n",
      " 14   metadata_release                    object \n",
      " 15   social_features_artist_discovery    float64\n",
      " 16   social_features_artist_familiarity  float64\n",
      " 17   social_features_artist_hotttnesss   float64\n",
      " 18   social_features_song_currency       float64\n",
      " 19   social_features_song_hotttnesss     float64\n",
      " 20   temporal_features_000               float64\n",
      " 21   temporal_features_001               float64\n",
      " 22   temporal_features_002               float64\n",
      " 23   temporal_features_003               float64\n",
      " 24   temporal_features_004               float64\n",
      " 25   temporal_features_005               float64\n",
      " 26   temporal_features_006               float64\n",
      " 27   temporal_features_007               float64\n",
      " 28   temporal_features_008               float64\n",
      " 29   temporal_features_009               float64\n",
      " 30   temporal_features_010               float64\n",
      " 31   temporal_features_011               float64\n",
      " 32   temporal_features_012               float64\n",
      " 33   temporal_features_013               float64\n",
      " 34   temporal_features_014               float64\n",
      " 35   temporal_features_015               float64\n",
      " 36   temporal_features_016               float64\n",
      " 37   temporal_features_017               float64\n",
      " 38   temporal_features_018               float64\n",
      " 39   temporal_features_019               float64\n",
      " 40   temporal_features_020               float64\n",
      " 41   temporal_features_021               float64\n",
      " 42   temporal_features_022               float64\n",
      " 43   temporal_features_023               float64\n",
      " 44   temporal_features_024               float64\n",
      " 45   temporal_features_025               float64\n",
      " 46   temporal_features_026               float64\n",
      " 47   temporal_features_027               float64\n",
      " 48   temporal_features_028               float64\n",
      " 49   temporal_features_029               float64\n",
      " 50   temporal_features_030               float64\n",
      " 51   temporal_features_031               float64\n",
      " 52   temporal_features_032               float64\n",
      " 53   temporal_features_033               float64\n",
      " 54   temporal_features_034               float64\n",
      " 55   temporal_features_035               float64\n",
      " 56   temporal_features_036               float64\n",
      " 57   temporal_features_037               float64\n",
      " 58   temporal_features_038               float64\n",
      " 59   temporal_features_039               float64\n",
      " 60   temporal_features_040               float64\n",
      " 61   temporal_features_041               float64\n",
      " 62   temporal_features_042               float64\n",
      " 63   temporal_features_043               float64\n",
      " 64   temporal_features_044               float64\n",
      " 65   temporal_features_045               float64\n",
      " 66   temporal_features_046               float64\n",
      " 67   temporal_features_047               float64\n",
      " 68   temporal_features_048               float64\n",
      " 69   temporal_features_049               float64\n",
      " 70   temporal_features_050               float64\n",
      " 71   temporal_features_051               float64\n",
      " 72   temporal_features_052               float64\n",
      " 73   temporal_features_053               float64\n",
      " 74   temporal_features_054               float64\n",
      " 75   temporal_features_055               float64\n",
      " 76   temporal_features_056               float64\n",
      " 77   temporal_features_057               float64\n",
      " 78   temporal_features_058               float64\n",
      " 79   temporal_features_059               float64\n",
      " 80   temporal_features_060               float64\n",
      " 81   temporal_features_061               float64\n",
      " 82   temporal_features_062               float64\n",
      " 83   temporal_features_063               float64\n",
      " 84   temporal_features_064               float64\n",
      " 85   temporal_features_065               float64\n",
      " 86   temporal_features_066               float64\n",
      " 87   temporal_features_067               float64\n",
      " 88   temporal_features_068               float64\n",
      " 89   temporal_features_069               float64\n",
      " 90   temporal_features_070               float64\n",
      " 91   temporal_features_071               float64\n",
      " 92   temporal_features_072               float64\n",
      " 93   temporal_features_073               float64\n",
      " 94   temporal_features_074               float64\n",
      " 95   temporal_features_075               float64\n",
      " 96   temporal_features_076               float64\n",
      " 97   temporal_features_077               float64\n",
      " 98   temporal_features_078               float64\n",
      " 99   temporal_features_079               float64\n",
      " 100  temporal_features_080               float64\n",
      " 101  temporal_features_081               float64\n",
      " 102  temporal_features_082               float64\n",
      " 103  temporal_features_083               float64\n",
      " 104  temporal_features_084               float64\n",
      " 105  temporal_features_085               float64\n",
      " 106  temporal_features_086               float64\n",
      " 107  temporal_features_087               float64\n",
      " 108  temporal_features_088               float64\n",
      " 109  temporal_features_089               float64\n",
      " 110  temporal_features_090               float64\n",
      " 111  temporal_features_091               float64\n",
      " 112  temporal_features_092               float64\n",
      " 113  temporal_features_093               float64\n",
      " 114  temporal_features_094               float64\n",
      " 115  temporal_features_095               float64\n",
      " 116  temporal_features_096               float64\n",
      " 117  temporal_features_097               float64\n",
      " 118  temporal_features_098               float64\n",
      " 119  temporal_features_099               float64\n",
      " 120  temporal_features_100               float64\n",
      " 121  temporal_features_101               float64\n",
      " 122  temporal_features_102               float64\n",
      " 123  temporal_features_103               float64\n",
      " 124  temporal_features_104               float64\n",
      " 125  temporal_features_105               float64\n",
      " 126  temporal_features_106               float64\n",
      " 127  temporal_features_107               float64\n",
      " 128  temporal_features_108               float64\n",
      " 129  temporal_features_109               float64\n",
      " 130  temporal_features_110               float64\n",
      " 131  temporal_features_111               float64\n",
      " 132  temporal_features_112               float64\n",
      " 133  temporal_features_113               float64\n",
      " 134  temporal_features_114               float64\n",
      " 135  temporal_features_115               float64\n",
      " 136  temporal_features_116               float64\n",
      " 137  temporal_features_117               float64\n",
      " 138  temporal_features_118               float64\n",
      " 139  temporal_features_119               float64\n",
      " 140  temporal_features_120               float64\n",
      " 141  temporal_features_121               float64\n",
      " 142  temporal_features_122               float64\n",
      " 143  temporal_features_123               float64\n",
      " 144  temporal_features_124               float64\n",
      " 145  temporal_features_125               float64\n",
      " 146  temporal_features_126               float64\n",
      " 147  temporal_features_127               float64\n",
      " 148  temporal_features_128               float64\n",
      " 149  temporal_features_129               float64\n",
      " 150  temporal_features_130               float64\n",
      " 151  temporal_features_131               float64\n",
      " 152  temporal_features_132               float64\n",
      " 153  temporal_features_133               float64\n",
      " 154  temporal_features_134               float64\n",
      " 155  temporal_features_135               float64\n",
      " 156  temporal_features_136               float64\n",
      " 157  temporal_features_137               float64\n",
      " 158  temporal_features_138               float64\n",
      " 159  temporal_features_139               float64\n",
      " 160  temporal_features_140               float64\n",
      " 161  temporal_features_141               float64\n",
      " 162  temporal_features_142               float64\n",
      " 163  temporal_features_143               float64\n",
      " 164  temporal_features_144               float64\n",
      " 165  temporal_features_145               float64\n",
      " 166  temporal_features_146               float64\n",
      " 167  temporal_features_147               float64\n",
      " 168  temporal_features_148               float64\n",
      " 169  temporal_features_149               float64\n",
      " 170  temporal_features_150               float64\n",
      " 171  temporal_features_151               float64\n",
      " 172  temporal_features_152               float64\n",
      " 173  temporal_features_153               float64\n",
      " 174  temporal_features_154               float64\n",
      " 175  temporal_features_155               float64\n",
      " 176  temporal_features_156               float64\n",
      " 177  temporal_features_157               float64\n",
      " 178  temporal_features_158               float64\n",
      " 179  temporal_features_159               float64\n",
      " 180  temporal_features_160               float64\n",
      " 181  temporal_features_161               float64\n",
      " 182  temporal_features_162               float64\n",
      " 183  temporal_features_163               float64\n",
      " 184  temporal_features_164               float64\n",
      " 185  temporal_features_165               float64\n",
      " 186  temporal_features_166               float64\n",
      " 187  temporal_features_167               float64\n",
      " 188  temporal_features_168               float64\n",
      " 189  temporal_features_169               float64\n",
      " 190  temporal_features_170               float64\n",
      " 191  temporal_features_171               float64\n",
      " 192  temporal_features_172               float64\n",
      " 193  temporal_features_173               float64\n",
      " 194  temporal_features_174               float64\n",
      " 195  temporal_features_175               float64\n",
      " 196  temporal_features_176               float64\n",
      " 197  temporal_features_177               float64\n",
      " 198  temporal_features_178               float64\n",
      " 199  temporal_features_179               float64\n",
      " 200  temporal_features_180               float64\n",
      " 201  temporal_features_181               float64\n",
      " 202  temporal_features_182               float64\n",
      " 203  temporal_features_183               float64\n",
      " 204  temporal_features_184               float64\n",
      " 205  temporal_features_185               float64\n",
      " 206  temporal_features_186               float64\n",
      " 207  temporal_features_187               float64\n",
      " 208  temporal_features_188               float64\n",
      " 209  temporal_features_189               float64\n",
      " 210  temporal_features_190               float64\n",
      " 211  temporal_features_191               float64\n",
      " 212  temporal_features_192               float64\n",
      " 213  temporal_features_193               float64\n",
      " 214  temporal_features_194               float64\n",
      " 215  temporal_features_195               float64\n",
      " 216  temporal_features_196               float64\n",
      " 217  temporal_features_197               float64\n",
      " 218  temporal_features_198               float64\n",
      " 219  temporal_features_199               float64\n",
      " 220  temporal_features_200               float64\n",
      " 221  temporal_features_201               float64\n",
      " 222  temporal_features_202               float64\n",
      " 223  temporal_features_203               float64\n",
      " 224  temporal_features_204               float64\n",
      " 225  temporal_features_205               float64\n",
      " 226  temporal_features_206               float64\n",
      " 227  temporal_features_207               float64\n",
      " 228  temporal_features_208               float64\n",
      " 229  temporal_features_209               float64\n",
      " 230  temporal_features_210               float64\n",
      " 231  temporal_features_211               float64\n",
      " 232  temporal_features_212               float64\n",
      " 233  temporal_features_213               float64\n",
      " 234  temporal_features_214               float64\n",
      " 235  temporal_features_215               float64\n",
      " 236  temporal_features_216               float64\n",
      " 237  temporal_features_217               float64\n",
      " 238  temporal_features_218               float64\n",
      " 239  temporal_features_219               float64\n",
      " 240  temporal_features_220               float64\n",
      " 241  temporal_features_221               float64\n",
      " 242  temporal_features_222               float64\n",
      " 243  temporal_features_223               float64\n",
      " 244  chroma_cens_kurtosis_01             float64\n",
      " 245  chroma_cens_kurtosis_02             float64\n",
      " 246  chroma_cens_kurtosis_03             float64\n",
      " 247  chroma_cens_kurtosis_04             float64\n",
      " 248  chroma_cens_kurtosis_05             float64\n",
      " 249  chroma_cens_kurtosis_06             float64\n",
      " 250  chroma_cens_kurtosis_07             float64\n",
      " 251  chroma_cens_kurtosis_08             float64\n",
      " 252  chroma_cens_kurtosis_09             float64\n",
      " 253  chroma_cens_kurtosis_10             float64\n",
      " 254  chroma_cens_kurtosis_11             float64\n",
      " 255  chroma_cens_kurtosis_12             float64\n",
      " 256  chroma_cens_max_01                  float64\n",
      " 257  chroma_cens_max_02                  float64\n",
      " 258  chroma_cens_max_03                  float64\n",
      " 259  chroma_cens_max_04                  float64\n",
      " 260  chroma_cens_max_05                  float64\n",
      " 261  chroma_cens_max_06                  float64\n",
      " 262  chroma_cens_max_07                  float64\n",
      " 263  chroma_cens_max_08                  float64\n",
      " 264  chroma_cens_max_09                  float64\n",
      " 265  chroma_cens_max_10                  float64\n",
      " 266  chroma_cens_max_11                  float64\n",
      " 267  chroma_cens_max_12                  float64\n",
      " 268  chroma_cens_mean_01                 float64\n",
      " 269  chroma_cens_mean_02                 float64\n",
      " 270  chroma_cens_mean_03                 float64\n",
      " 271  chroma_cens_mean_04                 float64\n",
      " 272  chroma_cens_mean_05                 float64\n",
      " 273  chroma_cens_mean_06                 float64\n",
      " 274  chroma_cens_mean_07                 float64\n",
      " 275  chroma_cens_mean_08                 float64\n",
      " 276  chroma_cens_mean_09                 float64\n",
      " 277  chroma_cens_mean_10                 float64\n",
      " 278  chroma_cens_mean_11                 float64\n",
      " 279  chroma_cens_mean_12                 float64\n",
      " 280  chroma_cens_median_01               float64\n",
      " 281  chroma_cens_median_02               float64\n",
      " 282  chroma_cens_median_03               float64\n",
      " 283  chroma_cens_median_04               float64\n",
      " 284  chroma_cens_median_05               float64\n",
      " 285  chroma_cens_median_06               float64\n",
      " 286  chroma_cens_median_07               float64\n",
      " 287  chroma_cens_median_08               float64\n",
      " 288  chroma_cens_median_09               float64\n",
      " 289  chroma_cens_median_10               float64\n",
      " 290  chroma_cens_median_11               float64\n",
      " 291  chroma_cens_median_12               float64\n",
      " 292  chroma_cens_min_01                  float64\n",
      " 293  chroma_cens_min_02                  float64\n",
      " 294  chroma_cens_min_03                  float64\n",
      " 295  chroma_cens_min_04                  float64\n",
      " 296  chroma_cens_min_05                  float64\n",
      " 297  chroma_cens_min_06                  float64\n",
      " 298  chroma_cens_min_07                  float64\n",
      " 299  chroma_cens_min_08                  float64\n",
      " 300  chroma_cens_min_09                  float64\n",
      " 301  chroma_cens_min_10                  float64\n",
      " 302  chroma_cens_min_11                  float64\n",
      " 303  chroma_cens_min_12                  float64\n",
      " 304  chroma_cens_skew_01                 float64\n",
      " 305  chroma_cens_skew_02                 float64\n",
      " 306  chroma_cens_skew_03                 float64\n",
      " 307  chroma_cens_skew_04                 float64\n",
      " 308  chroma_cens_skew_05                 float64\n",
      " 309  chroma_cens_skew_06                 float64\n",
      " 310  chroma_cens_skew_07                 float64\n",
      " 311  chroma_cens_skew_08                 float64\n",
      " 312  chroma_cens_skew_09                 float64\n",
      " 313  chroma_cens_skew_10                 float64\n",
      " 314  chroma_cens_skew_11                 float64\n",
      " 315  chroma_cens_skew_12                 float64\n",
      " 316  chroma_cens_std_01                  float64\n",
      " 317  chroma_cens_std_02                  float64\n",
      " 318  chroma_cens_std_03                  float64\n",
      " 319  chroma_cens_std_04                  float64\n",
      " 320  chroma_cens_std_05                  float64\n",
      " 321  chroma_cens_std_06                  float64\n",
      " 322  chroma_cens_std_07                  float64\n",
      " 323  chroma_cens_std_08                  float64\n",
      " 324  chroma_cens_std_09                  float64\n",
      " 325  chroma_cens_std_10                  float64\n",
      " 326  chroma_cens_std_11                  float64\n",
      " 327  chroma_cens_std_12                  float64\n",
      " 328  chroma_cqt_kurtosis_01              float64\n",
      " 329  chroma_cqt_kurtosis_02              float64\n",
      " 330  chroma_cqt_kurtosis_03              float64\n",
      " 331  chroma_cqt_kurtosis_04              float64\n",
      " 332  chroma_cqt_kurtosis_05              float64\n",
      " 333  chroma_cqt_kurtosis_06              float64\n",
      " 334  chroma_cqt_kurtosis_07              float64\n",
      " 335  chroma_cqt_kurtosis_08              float64\n",
      " 336  chroma_cqt_kurtosis_09              float64\n",
      " 337  chroma_cqt_kurtosis_10              float64\n",
      " 338  chroma_cqt_kurtosis_11              float64\n",
      " 339  chroma_cqt_kurtosis_12              float64\n",
      " 340  chroma_cqt_max_01                   float64\n",
      " 341  chroma_cqt_max_02                   float64\n",
      " 342  chroma_cqt_max_03                   float64\n",
      " 343  chroma_cqt_max_04                   float64\n",
      " 344  chroma_cqt_max_05                   float64\n",
      " 345  chroma_cqt_max_06                   float64\n",
      " 346  chroma_cqt_max_07                   float64\n",
      " 347  chroma_cqt_max_08                   float64\n",
      " 348  chroma_cqt_max_09                   float64\n",
      " 349  chroma_cqt_max_10                   float64\n",
      " 350  chroma_cqt_max_11                   float64\n",
      " 351  chroma_cqt_max_12                   float64\n",
      " 352  chroma_cqt_mean_01                  float64\n",
      " 353  chroma_cqt_mean_02                  float64\n",
      " 354  chroma_cqt_mean_03                  float64\n",
      " 355  chroma_cqt_mean_04                  float64\n",
      " 356  chroma_cqt_mean_05                  float64\n",
      " 357  chroma_cqt_mean_06                  float64\n",
      " 358  chroma_cqt_mean_07                  float64\n",
      " 359  chroma_cqt_mean_08                  float64\n",
      " 360  chroma_cqt_mean_09                  float64\n",
      " 361  chroma_cqt_mean_10                  float64\n",
      " 362  chroma_cqt_mean_11                  float64\n",
      " 363  chroma_cqt_mean_12                  float64\n",
      " 364  chroma_cqt_median_01                float64\n",
      " 365  chroma_cqt_median_02                float64\n",
      " 366  chroma_cqt_median_03                float64\n",
      " 367  chroma_cqt_median_04                float64\n",
      " 368  chroma_cqt_median_05                float64\n",
      " 369  chroma_cqt_median_06                float64\n",
      " 370  chroma_cqt_median_07                float64\n",
      " 371  chroma_cqt_median_08                float64\n",
      " 372  chroma_cqt_median_09                float64\n",
      " 373  chroma_cqt_median_10                float64\n",
      " 374  chroma_cqt_median_11                float64\n",
      " 375  chroma_cqt_median_12                float64\n",
      " 376  chroma_cqt_min_01                   float64\n",
      " 377  chroma_cqt_min_02                   float64\n",
      " 378  chroma_cqt_min_03                   float64\n",
      " 379  chroma_cqt_min_04                   float64\n",
      " 380  chroma_cqt_min_05                   float64\n",
      " 381  chroma_cqt_min_06                   float64\n",
      " 382  chroma_cqt_min_07                   float64\n",
      " 383  chroma_cqt_min_08                   float64\n",
      " 384  chroma_cqt_min_09                   float64\n",
      " 385  chroma_cqt_min_10                   float64\n",
      " 386  chroma_cqt_min_11                   float64\n",
      " 387  chroma_cqt_min_12                   float64\n",
      " 388  chroma_cqt_skew_01                  float64\n",
      " 389  chroma_cqt_skew_02                  float64\n",
      " 390  chroma_cqt_skew_03                  float64\n",
      " 391  chroma_cqt_skew_04                  float64\n",
      " 392  chroma_cqt_skew_05                  float64\n",
      " 393  chroma_cqt_skew_06                  float64\n",
      " 394  chroma_cqt_skew_07                  float64\n",
      " 395  chroma_cqt_skew_08                  float64\n",
      " 396  chroma_cqt_skew_09                  float64\n",
      " 397  chroma_cqt_skew_10                  float64\n",
      " 398  chroma_cqt_skew_11                  float64\n",
      " 399  chroma_cqt_skew_12                  float64\n",
      " 400  chroma_cqt_std_01                   float64\n",
      " 401  chroma_cqt_std_02                   float64\n",
      " 402  chroma_cqt_std_03                   float64\n",
      " 403  chroma_cqt_std_04                   float64\n",
      " 404  chroma_cqt_std_05                   float64\n",
      " 405  chroma_cqt_std_06                   float64\n",
      " 406  chroma_cqt_std_07                   float64\n",
      " 407  chroma_cqt_std_08                   float64\n",
      " 408  chroma_cqt_std_09                   float64\n",
      " 409  chroma_cqt_std_10                   float64\n",
      " 410  chroma_cqt_std_11                   float64\n",
      " 411  chroma_cqt_std_12                   float64\n",
      " 412  chroma_stft_kurtosis_01             float64\n",
      " 413  chroma_stft_kurtosis_02             float64\n",
      " 414  chroma_stft_kurtosis_03             float64\n",
      " 415  chroma_stft_kurtosis_04             float64\n",
      " 416  chroma_stft_kurtosis_05             float64\n",
      " 417  chroma_stft_kurtosis_06             float64\n",
      " 418  chroma_stft_kurtosis_07             float64\n",
      " 419  chroma_stft_kurtosis_08             float64\n",
      " 420  chroma_stft_kurtosis_09             float64\n",
      " 421  chroma_stft_kurtosis_10             float64\n",
      " 422  chroma_stft_kurtosis_11             float64\n",
      " 423  chroma_stft_kurtosis_12             float64\n",
      " 424  chroma_stft_max_01                  float64\n",
      " 425  chroma_stft_max_02                  float64\n",
      " 426  chroma_stft_max_03                  float64\n",
      " 427  chroma_stft_max_04                  float64\n",
      " 428  chroma_stft_max_05                  float64\n",
      " 429  chroma_stft_max_06                  float64\n",
      " 430  chroma_stft_max_07                  float64\n",
      " 431  chroma_stft_max_08                  float64\n",
      " 432  chroma_stft_max_09                  float64\n",
      " 433  chroma_stft_max_10                  float64\n",
      " 434  chroma_stft_max_11                  float64\n",
      " 435  chroma_stft_max_12                  float64\n",
      " 436  chroma_stft_mean_01                 float64\n",
      " 437  chroma_stft_mean_02                 float64\n",
      " 438  chroma_stft_mean_03                 float64\n",
      " 439  chroma_stft_mean_04                 float64\n",
      " 440  chroma_stft_mean_05                 float64\n",
      " 441  chroma_stft_mean_06                 float64\n",
      " 442  chroma_stft_mean_07                 float64\n",
      " 443  chroma_stft_mean_08                 float64\n",
      " 444  chroma_stft_mean_09                 float64\n",
      " 445  chroma_stft_mean_10                 float64\n",
      " 446  chroma_stft_mean_11                 float64\n",
      " 447  chroma_stft_mean_12                 float64\n",
      " 448  chroma_stft_median_01               float64\n",
      " 449  chroma_stft_median_02               float64\n",
      " 450  chroma_stft_median_03               float64\n",
      " 451  chroma_stft_median_04               float64\n",
      " 452  chroma_stft_median_05               float64\n",
      " 453  chroma_stft_median_06               float64\n",
      " 454  chroma_stft_median_07               float64\n",
      " 455  chroma_stft_median_08               float64\n",
      " 456  chroma_stft_median_09               float64\n",
      " 457  chroma_stft_median_10               float64\n",
      " 458  chroma_stft_median_11               float64\n",
      " 459  chroma_stft_median_12               float64\n",
      " 460  chroma_stft_min_01                  float64\n",
      " 461  chroma_stft_min_02                  float64\n",
      " 462  chroma_stft_min_03                  float64\n",
      " 463  chroma_stft_min_04                  float64\n",
      " 464  chroma_stft_min_05                  float64\n",
      " 465  chroma_stft_min_06                  float64\n",
      " 466  chroma_stft_min_07                  float64\n",
      " 467  chroma_stft_min_08                  float64\n",
      " 468  chroma_stft_min_09                  float64\n",
      " 469  chroma_stft_min_10                  float64\n",
      " 470  chroma_stft_min_11                  float64\n",
      " 471  chroma_stft_min_12                  float64\n",
      " 472  chroma_stft_skew_01                 float64\n",
      " 473  chroma_stft_skew_02                 float64\n",
      " 474  chroma_stft_skew_03                 float64\n",
      " 475  chroma_stft_skew_04                 float64\n",
      " 476  chroma_stft_skew_05                 float64\n",
      " 477  chroma_stft_skew_06                 float64\n",
      " 478  chroma_stft_skew_07                 float64\n",
      " 479  chroma_stft_skew_08                 float64\n",
      " 480  chroma_stft_skew_09                 float64\n",
      " 481  chroma_stft_skew_10                 float64\n",
      " 482  chroma_stft_skew_11                 float64\n",
      " 483  chroma_stft_skew_12                 float64\n",
      " 484  chroma_stft_std_01                  float64\n",
      " 485  chroma_stft_std_02                  float64\n",
      " 486  chroma_stft_std_03                  float64\n",
      " 487  chroma_stft_std_04                  float64\n",
      " 488  chroma_stft_std_05                  float64\n",
      " 489  chroma_stft_std_06                  float64\n",
      " 490  chroma_stft_std_07                  float64\n",
      " 491  chroma_stft_std_08                  float64\n",
      " 492  chroma_stft_std_09                  float64\n",
      " 493  chroma_stft_std_10                  float64\n",
      " 494  chroma_stft_std_11                  float64\n",
      " 495  chroma_stft_std_12                  float64\n",
      " 496  mfcc_kurtosis_01                    float64\n",
      " 497  mfcc_kurtosis_02                    float64\n",
      " 498  mfcc_kurtosis_03                    float64\n",
      " 499  mfcc_kurtosis_04                    float64\n",
      " 500  mfcc_kurtosis_05                    float64\n",
      " 501  mfcc_kurtosis_06                    float64\n",
      " 502  mfcc_kurtosis_07                    float64\n",
      " 503  mfcc_kurtosis_08                    float64\n",
      " 504  mfcc_kurtosis_09                    float64\n",
      " 505  mfcc_kurtosis_10                    float64\n",
      " 506  mfcc_kurtosis_11                    float64\n",
      " 507  mfcc_kurtosis_12                    float64\n",
      " 508  mfcc_kurtosis_13                    float64\n",
      " 509  mfcc_kurtosis_14                    float64\n",
      " 510  mfcc_kurtosis_15                    float64\n",
      " 511  mfcc_kurtosis_16                    float64\n",
      " 512  mfcc_kurtosis_17                    float64\n",
      " 513  mfcc_kurtosis_18                    float64\n",
      " 514  mfcc_kurtosis_19                    float64\n",
      " 515  mfcc_kurtosis_20                    float64\n",
      " 516  mfcc_max_01                         float64\n",
      " 517  mfcc_max_02                         float64\n",
      " 518  mfcc_max_03                         float64\n",
      " 519  mfcc_max_04                         float64\n",
      " 520  mfcc_max_05                         float64\n",
      " 521  mfcc_max_06                         float64\n",
      " 522  mfcc_max_07                         float64\n",
      " 523  mfcc_max_08                         float64\n",
      " 524  mfcc_max_09                         float64\n",
      " 525  mfcc_max_10                         float64\n",
      " 526  mfcc_max_11                         float64\n",
      " 527  mfcc_max_12                         float64\n",
      " 528  mfcc_max_13                         float64\n",
      " 529  mfcc_max_14                         float64\n",
      " 530  mfcc_max_15                         float64\n",
      " 531  mfcc_max_16                         float64\n",
      " 532  mfcc_max_17                         float64\n",
      " 533  mfcc_max_18                         float64\n",
      " 534  mfcc_max_19                         float64\n",
      " 535  mfcc_max_20                         float64\n",
      " 536  mfcc_mean_01                        float64\n",
      " 537  mfcc_mean_02                        float64\n",
      " 538  mfcc_mean_03                        float64\n",
      " 539  mfcc_mean_04                        float64\n",
      " 540  mfcc_mean_05                        float64\n",
      " 541  mfcc_mean_06                        float64\n",
      " 542  mfcc_mean_07                        float64\n",
      " 543  mfcc_mean_08                        float64\n",
      " 544  mfcc_mean_09                        float64\n",
      " 545  mfcc_mean_10                        float64\n",
      " 546  mfcc_mean_11                        float64\n",
      " 547  mfcc_mean_12                        float64\n",
      " 548  mfcc_mean_13                        float64\n",
      " 549  mfcc_mean_14                        float64\n",
      " 550  mfcc_mean_15                        float64\n",
      " 551  mfcc_mean_16                        float64\n",
      " 552  mfcc_mean_17                        float64\n",
      " 553  mfcc_mean_18                        float64\n",
      " 554  mfcc_mean_19                        float64\n",
      " 555  mfcc_mean_20                        float64\n",
      " 556  mfcc_median_01                      float64\n",
      " 557  mfcc_median_02                      float64\n",
      " 558  mfcc_median_03                      float64\n",
      " 559  mfcc_median_04                      float64\n",
      " 560  mfcc_median_05                      float64\n",
      " 561  mfcc_median_06                      float64\n",
      " 562  mfcc_median_07                      float64\n",
      " 563  mfcc_median_08                      float64\n",
      " 564  mfcc_median_09                      float64\n",
      " 565  mfcc_median_10                      float64\n",
      " 566  mfcc_median_11                      float64\n",
      " 567  mfcc_median_12                      float64\n",
      " 568  mfcc_median_13                      float64\n",
      " 569  mfcc_median_14                      float64\n",
      " 570  mfcc_median_15                      float64\n",
      " 571  mfcc_median_16                      float64\n",
      " 572  mfcc_median_17                      float64\n",
      " 573  mfcc_median_18                      float64\n",
      " 574  mfcc_median_19                      float64\n",
      " 575  mfcc_median_20                      float64\n",
      " 576  mfcc_min_01                         float64\n",
      " 577  mfcc_min_02                         float64\n",
      " 578  mfcc_min_03                         float64\n",
      " 579  mfcc_min_04                         float64\n",
      " 580  mfcc_min_05                         float64\n",
      " 581  mfcc_min_06                         float64\n",
      " 582  mfcc_min_07                         float64\n",
      " 583  mfcc_min_08                         float64\n",
      " 584  mfcc_min_09                         float64\n",
      " 585  mfcc_min_10                         float64\n",
      " 586  mfcc_min_11                         float64\n",
      " 587  mfcc_min_12                         float64\n",
      " 588  mfcc_min_13                         float64\n",
      " 589  mfcc_min_14                         float64\n",
      " 590  mfcc_min_15                         float64\n",
      " 591  mfcc_min_16                         float64\n",
      " 592  mfcc_min_17                         float64\n",
      " 593  mfcc_min_18                         float64\n",
      " 594  mfcc_min_19                         float64\n",
      " 595  mfcc_min_20                         float64\n",
      " 596  mfcc_skew_01                        float64\n",
      " 597  mfcc_skew_02                        float64\n",
      " 598  mfcc_skew_03                        float64\n",
      " 599  mfcc_skew_04                        float64\n",
      " 600  mfcc_skew_05                        float64\n",
      " 601  mfcc_skew_06                        float64\n",
      " 602  mfcc_skew_07                        float64\n",
      " 603  mfcc_skew_08                        float64\n",
      " 604  mfcc_skew_09                        float64\n",
      " 605  mfcc_skew_10                        float64\n",
      " 606  mfcc_skew_11                        float64\n",
      " 607  mfcc_skew_12                        float64\n",
      " 608  mfcc_skew_13                        float64\n",
      " 609  mfcc_skew_14                        float64\n",
      " 610  mfcc_skew_15                        float64\n",
      " 611  mfcc_skew_16                        float64\n",
      " 612  mfcc_skew_17                        float64\n",
      " 613  mfcc_skew_18                        float64\n",
      " 614  mfcc_skew_19                        float64\n",
      " 615  mfcc_skew_20                        float64\n",
      " 616  mfcc_std_01                         float64\n",
      " 617  mfcc_std_02                         float64\n",
      " 618  mfcc_std_03                         float64\n",
      " 619  mfcc_std_04                         float64\n",
      " 620  mfcc_std_05                         float64\n",
      " 621  mfcc_std_06                         float64\n",
      " 622  mfcc_std_07                         float64\n",
      " 623  mfcc_std_08                         float64\n",
      " 624  mfcc_std_09                         float64\n",
      " 625  mfcc_std_10                         float64\n",
      " 626  mfcc_std_11                         float64\n",
      " 627  mfcc_std_12                         float64\n",
      " 628  mfcc_std_13                         float64\n",
      " 629  mfcc_std_14                         float64\n",
      " 630  mfcc_std_15                         float64\n",
      " 631  mfcc_std_16                         float64\n",
      " 632  mfcc_std_17                         float64\n",
      " 633  mfcc_std_18                         float64\n",
      " 634  mfcc_std_19                         float64\n",
      " 635  mfcc_std_20                         float64\n",
      " 636  rmse_kurtosis_01                    float64\n",
      " 637  rmse_max_01                         float64\n",
      " 638  rmse_mean_01                        float64\n",
      " 639  rmse_median_01                      float64\n",
      " 640  rmse_min_01                         float64\n",
      " 641  rmse_skew_01                        float64\n",
      " 642  rmse_std_01                         float64\n",
      " 643  spectral_bandwidth_kurtosis_01      float64\n",
      " 644  spectral_bandwidth_max_01           float64\n",
      " 645  spectral_bandwidth_mean_01          float64\n",
      " 646  spectral_bandwidth_median_01        float64\n",
      " 647  spectral_bandwidth_min_01           float64\n",
      " 648  spectral_bandwidth_skew_01          float64\n",
      " 649  spectral_bandwidth_std_01           float64\n",
      " 650  spectral_centroid_kurtosis_01       float64\n",
      " 651  spectral_centroid_max_01            float64\n",
      " 652  spectral_centroid_mean_01           float64\n",
      " 653  spectral_centroid_median_01         float64\n",
      " 654  spectral_centroid_min_01            float64\n",
      " 655  spectral_centroid_skew_01           float64\n",
      " 656  spectral_centroid_std_01            float64\n",
      " 657  spectral_contrast_kurtosis_01       float64\n",
      " 658  spectral_contrast_kurtosis_02       float64\n",
      " 659  spectral_contrast_kurtosis_03       float64\n",
      " 660  spectral_contrast_kurtosis_04       float64\n",
      " 661  spectral_contrast_kurtosis_05       float64\n",
      " 662  spectral_contrast_kurtosis_06       float64\n",
      " 663  spectral_contrast_kurtosis_07       float64\n",
      " 664  spectral_contrast_max_01            float64\n",
      " 665  spectral_contrast_max_02            float64\n",
      " 666  spectral_contrast_max_03            float64\n",
      " 667  spectral_contrast_max_04            float64\n",
      " 668  spectral_contrast_max_05            float64\n",
      " 669  spectral_contrast_max_06            float64\n",
      " 670  spectral_contrast_max_07            float64\n",
      " 671  spectral_contrast_mean_01           float64\n",
      " 672  spectral_contrast_mean_02           float64\n",
      " 673  spectral_contrast_mean_03           float64\n",
      " 674  spectral_contrast_mean_04           float64\n",
      " 675  spectral_contrast_mean_05           float64\n",
      " 676  spectral_contrast_mean_06           float64\n",
      " 677  spectral_contrast_mean_07           float64\n",
      " 678  spectral_contrast_median_01         float64\n",
      " 679  spectral_contrast_median_02         float64\n",
      " 680  spectral_contrast_median_03         float64\n",
      " 681  spectral_contrast_median_04         float64\n",
      " 682  spectral_contrast_median_05         float64\n",
      " 683  spectral_contrast_median_06         float64\n",
      " 684  spectral_contrast_median_07         float64\n",
      " 685  spectral_contrast_min_01            float64\n",
      " 686  spectral_contrast_min_02            float64\n",
      " 687  spectral_contrast_min_03            float64\n",
      " 688  spectral_contrast_min_04            float64\n",
      " 689  spectral_contrast_min_05            float64\n",
      " 690  spectral_contrast_min_06            float64\n",
      " 691  spectral_contrast_min_07            float64\n",
      " 692  spectral_contrast_skew_01           float64\n",
      " 693  spectral_contrast_skew_02           float64\n",
      " 694  spectral_contrast_skew_03           float64\n",
      " 695  spectral_contrast_skew_04           float64\n",
      " 696  spectral_contrast_skew_05           float64\n",
      " 697  spectral_contrast_skew_06           float64\n",
      " 698  spectral_contrast_skew_07           float64\n",
      " 699  spectral_contrast_std_01            float64\n",
      " 700  spectral_contrast_std_02            float64\n",
      " 701  spectral_contrast_std_03            float64\n",
      " 702  spectral_contrast_std_04            float64\n",
      " 703  spectral_contrast_std_05            float64\n",
      " 704  spectral_contrast_std_06            float64\n",
      " 705  spectral_contrast_std_07            float64\n",
      " 706  spectral_rolloff_kurtosis_01        float64\n",
      " 707  spectral_rolloff_max_01             float64\n",
      " 708  spectral_rolloff_mean_01            float64\n",
      " 709  spectral_rolloff_median_01          float64\n",
      " 710  spectral_rolloff_min_01             float64\n",
      " 711  spectral_rolloff_skew_01            float64\n",
      " 712  spectral_rolloff_std_01             float64\n",
      " 713  tonnetz_kurtosis_01                 float64\n",
      " 714  tonnetz_kurtosis_02                 float64\n",
      " 715  tonnetz_kurtosis_03                 float64\n",
      " 716  tonnetz_kurtosis_04                 float64\n",
      " 717  tonnetz_kurtosis_05                 float64\n",
      " 718  tonnetz_kurtosis_06                 float64\n",
      " 719  tonnetz_max_01                      float64\n",
      " 720  tonnetz_max_02                      float64\n",
      " 721  tonnetz_max_03                      float64\n",
      " 722  tonnetz_max_04                      float64\n",
      " 723  tonnetz_max_05                      float64\n",
      " 724  tonnetz_max_06                      float64\n",
      " 725  tonnetz_mean_01                     float64\n",
      " 726  tonnetz_mean_02                     float64\n",
      " 727  tonnetz_mean_03                     float64\n",
      " 728  tonnetz_mean_04                     float64\n",
      " 729  tonnetz_mean_05                     float64\n",
      " 730  tonnetz_mean_06                     float64\n",
      " 731  tonnetz_median_01                   float64\n",
      " 732  tonnetz_median_02                   float64\n",
      " 733  tonnetz_median_03                   float64\n",
      " 734  tonnetz_median_04                   float64\n",
      " 735  tonnetz_median_05                   float64\n",
      " 736  tonnetz_median_06                   float64\n",
      " 737  tonnetz_min_01                      float64\n",
      " 738  tonnetz_min_02                      float64\n",
      " 739  tonnetz_min_03                      float64\n",
      " 740  tonnetz_min_04                      float64\n",
      " 741  tonnetz_min_05                      float64\n",
      " 742  tonnetz_min_06                      float64\n",
      " 743  tonnetz_skew_01                     float64\n",
      " 744  tonnetz_skew_02                     float64\n",
      " 745  tonnetz_skew_03                     float64\n",
      " 746  tonnetz_skew_04                     float64\n",
      " 747  tonnetz_skew_05                     float64\n",
      " 748  tonnetz_skew_06                     float64\n",
      " 749  tonnetz_std_01                      float64\n",
      " 750  tonnetz_std_02                      float64\n",
      " 751  tonnetz_std_03                      float64\n",
      " 752  tonnetz_std_04                      float64\n",
      " 753  tonnetz_std_05                      float64\n",
      " 754  tonnetz_std_06                      float64\n",
      " 755  zcr_kurtosis_01                     float64\n",
      " 756  zcr_max_01                          float64\n",
      " 757  zcr_mean_01                         float64\n",
      " 758  zcr_median_01                       float64\n",
      " 759  zcr_min_01                          float64\n",
      " 760  zcr_skew_01                         float64\n",
      " 761  zcr_std_01                          float64\n",
      " 762  album_comments                      int64  \n",
      " 763  album_date_created                  int64  \n",
      " 764  album_date_released                 int64  \n",
      " 765  album_favorites                     int64  \n",
      " 766  album_id                            int64  \n",
      " 767  album_information                   object \n",
      " 768  album_listens                       int64  \n",
      " 769  album_tags                          object \n",
      " 770  album_title                         object \n",
      " 771  album_tracks                        int64  \n",
      " 772  album_type                          object \n",
      " 773  artist_bio                          object \n",
      " 774  artist_comments                     int64  \n",
      " 775  artist_date_created                 int64  \n",
      " 776  artist_favorites                    int64  \n",
      " 777  artist_id                           int64  \n",
      " 778  artist_latitude                     float64\n",
      " 779  artist_location                     object \n",
      " 780  artist_longitude                    float64\n",
      " 781  artist_members                      object \n",
      " 782  artist_name                         object \n",
      " 783  artist_tags                         object \n",
      " 784  artist_website                      object \n",
      " 785  set_split                           object \n",
      " 786  set_subset                          object \n",
      " 787  track_bit_rate                      int64  \n",
      " 788  track_comments                      int64  \n",
      " 789  track_date_created                  int64  \n",
      " 790  track_duration                      int64  \n",
      " 791  track_favorites                     int64  \n",
      " 792  track_interest                      int64  \n",
      " 793  track_language_code                 object \n",
      " 794  track_license                       object \n",
      " 795  track_listens                       int64  \n",
      " 796  track_number                        int64  \n",
      " 797  track_tags                          object \n",
      " 798  track_title                         object \n",
      "dtypes: float64(759), int64(21), object(19)\n",
      "memory usage: 80.0+ MB\n"
     ]
    }
   ],
   "source": [
    "merged_df.info(verbose = 1) # we have only 3 types : int, float or object"
   ]
  },
  {
   "cell_type": "code",
   "execution_count": 97,
   "metadata": {},
   "outputs": [],
   "source": [
    "# store and encode object values + store numerical value in two different DataFrame\n",
    "encoded_df = pd.DataFrame()\n",
    "num_df = pd.DataFrame()\n",
    "\n",
    "for col in merged_df.columns:\n",
    "    \n",
    "    #columns with non-numeric values\n",
    "    if merged_df[col].dtype == object :\n",
    "        #replace missing values by 'None'\n",
    "        merged_df[col].fillna(\"None\", inplace = True)  \n",
    "        le = preprocessing.LabelEncoder()\n",
    "        encoded_df[col]= le.fit_transform(merged_df[col])\n",
    "    \n",
    "    #columns with numeric values\n",
    "    else :\n",
    "        #replace missing values by the mean of the column\n",
    "        #if (merged_df[col].dtype == float) or (merged_df[col].dtype == int):\n",
    "        merged_df[col].fillna(merged_df[col].mean(), inplace = True)\n",
    "        num_df[col] = merged_df[col]\n",
    "        "
   ]
  },
  {
   "cell_type": "code",
   "execution_count": 98,
   "metadata": {},
   "outputs": [
    {
     "name": "stdout",
     "output_type": "stream",
     "text": [
      "merged_df (13129, 799)\n",
      "encoded_df (13129, 19)\n",
      "num_df (13129, 780)\n"
     ]
    }
   ],
   "source": [
    "print('merged_df' , merged_df.shape)\n",
    "print('encoded_df' , encoded_df.shape)\n",
    "print('num_df' , num_df.shape)"
   ]
  },
  {
   "cell_type": "markdown",
   "metadata": {},
   "source": [
    "#### Apply PCA only to numerical values\n",
    "\n",
    "We apply the PCA with 68 components, in order to have at least 70% of the total variance (of the numerical part)."
   ]
  },
  {
   "cell_type": "code",
   "execution_count": 99,
   "metadata": {},
   "outputs": [],
   "source": [
    "#normalize for ACP\n",
    "X1 = num_df.to_numpy()\n",
    "Z1 = preprocessing.StandardScaler().fit_transform(X1) # normalize\n",
    "\n",
    "#pca = PCA(n_components=Z.shape[1])\n",
    "pca = PCA(n_components = 68)\n",
    "A = pca.fit_transform(Z1)"
   ]
  },
  {
   "cell_type": "code",
   "execution_count": 100,
   "metadata": {},
   "outputs": [
    {
     "name": "stdout",
     "output_type": "stream",
     "text": [
      "The partial variance is equal to : 0.7002856651247683\n"
     ]
    }
   ],
   "source": [
    "#print(pca.explained_variance_ratio_)\n",
    "print(\"The partial variance is equal to :\", np.cumsum(pca.explained_variance_ratio_)[-1])"
   ]
  },
  {
   "cell_type": "markdown",
   "metadata": {},
   "source": [
    "#### Normalize the object dataset"
   ]
  },
  {
   "cell_type": "code",
   "execution_count": 101,
   "metadata": {},
   "outputs": [],
   "source": [
    "X2 = encoded_df.to_numpy()\n",
    "Z2 = preprocessing.StandardScaler().fit_transform(X2)"
   ]
  },
  {
   "cell_type": "code",
   "execution_count": 102,
   "metadata": {},
   "outputs": [
    {
     "data": {
      "text/plain": [
       "(13129, 19)"
      ]
     },
     "execution_count": 102,
     "metadata": {},
     "output_type": "execute_result"
    }
   ],
   "source": [
    "Z2.shape"
   ]
  },
  {
   "cell_type": "code",
   "execution_count": 103,
   "metadata": {},
   "outputs": [
    {
     "data": {
      "text/plain": [
       "(13129, 68)"
      ]
     },
     "execution_count": 103,
     "metadata": {},
     "output_type": "execute_result"
    }
   ],
   "source": [
    "A.shape"
   ]
  },
  {
   "cell_type": "code",
   "execution_count": 104,
   "metadata": {},
   "outputs": [
    {
     "data": {
      "text/plain": [
       "(13129, 87)"
      ]
     },
     "execution_count": 104,
     "metadata": {},
     "output_type": "execute_result"
    }
   ],
   "source": [
    "# final reducted matrix\n",
    "Z = np.hstack((A, Z2))\n",
    "Z.shape"
   ]
  },
  {
   "cell_type": "markdown",
   "metadata": {},
   "source": [
    "### 2.3 Clustering!"
   ]
  },
  {
   "cell_type": "markdown",
   "metadata": {},
   "source": [
    "#### Implement KMeans Algorithm with random initialization"
   ]
  },
  {
   "cell_type": "code",
   "execution_count": 105,
   "metadata": {},
   "outputs": [],
   "source": [
    "def KMeans(X, k, max_it = 100):\n",
    "    #choose randomly points of X to initialize our centroids\n",
    "    ind_centroids = random.sample(range(len(X)),k)\n",
    "    #initialization of the centroids\n",
    "    centroids = X[ind_centroids, :]\n",
    "    #init the associated cluster for each point\n",
    "    previous_clusters = [np.full(len(X), -1)]\n",
    "    clusters = np.full(len(X), -1)\n",
    "    \n",
    "    distances = np.array([np.linalg.norm(X - centroids[i], axis = 1) for i in range(k)]).T\n",
    "    clusters = np.argmin(distances, axis = 1)\n",
    "    count = 0\n",
    "    while (clusters != previous_clusters[-1]).any() and (count <= max_it):\n",
    "        previous_clusters.append(clusters)\n",
    "        # update the centroids\n",
    "        for j in range(k):\n",
    "            centroids[j] = np.mean(X[clusters==j,:], axis=0)\n",
    "        distances = np.array([np.linalg.norm(X - centroids[i], axis = 1) for i in range(k)]).T\n",
    "        clusters = np.argmin(distances, axis = 1)\n",
    "        count+=1\n",
    "        \n",
    "    return clusters, centroids, count"
   ]
  },
  {
   "cell_type": "markdown",
   "metadata": {},
   "source": [
    "#### Test Kmeans algorithm"
   ]
  },
  {
   "cell_type": "code",
   "execution_count": 21,
   "metadata": {},
   "outputs": [
    {
     "name": "stdout",
     "output_type": "stream",
     "text": [
      "Wall time: 938 ms\n"
     ]
    }
   ],
   "source": [
    "random.seed(0)\n",
    "%time clusters, centroids, count = KMeans(Z, 3, max_it = 100)\n",
    "# i dont understand why the algo running is longer for normalized values"
   ]
  },
  {
   "cell_type": "code",
   "execution_count": 22,
   "metadata": {},
   "outputs": [
    {
     "data": {
      "text/plain": [
       "array([0, 0, 0, ..., 2, 0, 1], dtype=int64)"
      ]
     },
     "execution_count": 22,
     "metadata": {},
     "output_type": "execute_result"
    }
   ],
   "source": [
    "clusters"
   ]
  },
  {
   "cell_type": "markdown",
   "metadata": {},
   "source": [
    "#### Method to find an optimal number of clusters\n",
    "1. Elbow method"
   ]
  },
  {
   "cell_type": "code",
   "execution_count": 30,
   "metadata": {},
   "outputs": [],
   "source": [
    "def compute_elbow(X, cluster_labels, centroids):\n",
    "    C = np.array([centroids[k] for k in cluster_labels])\n",
    "    dist = np.linalg.norm(X-C, axis = 1)\n",
    "    S = np.sum(dist)\n",
    "    return S"
   ]
  },
  {
   "cell_type": "code",
   "execution_count": 31,
   "metadata": {},
   "outputs": [],
   "source": [
    "def elbow_method(X, k_min, k_max):\n",
    "    inertia = []\n",
    "    K = []\n",
    "    for k in range(k_min, k_max + 1):\n",
    "        cluster_labels, centroids, count  = KMeans(X,k)\n",
    "        S = compute_elbow(X, cluster_labels, centroids)\n",
    "        inertia.append(S)\n",
    "        K.append(k)\n",
    "        print(k)\n",
    "    plt.plot(K, inertia)\n",
    "    plt.show()\n",
    "    return K, inertia"
   ]
  },
  {
   "cell_type": "code",
   "execution_count": 25,
   "metadata": {},
   "outputs": [
    {
     "name": "stdout",
     "output_type": "stream",
     "text": [
      "1\n",
      "2\n",
      "3\n",
      "4\n",
      "5\n",
      "6\n",
      "7\n",
      "8\n",
      "9\n",
      "10\n",
      "11\n",
      "12\n",
      "13\n",
      "14\n",
      "15\n"
     ]
    },
    {
     "data": {
      "image/png": "[encoded data removed]",
      "text/plain": [
       "<Figure size 432x288 with 1 Axes>"
      ]
     },
     "metadata": {
      "needs_background": "light"
     },
     "output_type": "display_data"
    }
   ],
   "source": [
    "K, inertia = elbow_method(Z, 1, 15)"
   ]
  },
  {
   "cell_type": "markdown",
   "metadata": {},
   "source": [
    "2. Silhouette score"
   ]
  },
  {
   "cell_type": "code",
   "execution_count": 106,
   "metadata": {},
   "outputs": [],
   "source": [
    "def silhouette_score(X, cluster_labels, centroids):\n",
    "    C = np.array([centroids[k] for k in cluster_labels])\n",
    "    \n",
    "    #Compute the average of distances between each point and its centroid\n",
    "    dist = np.linalg.norm(X-C, axis = 1)\n",
    "    intra_cluster = np.mean(dist)\n",
    "    \n",
    "    #Compute the average of distances between each centroid\n",
    "    L=[]\n",
    "    for i in range(len(centroids)) : \n",
    "        c1 = centroids[i]\n",
    "        for j in range(i+1, len(centroids)) : # avoid to compute the distance twice\n",
    "            c2 = centroids[j]\n",
    "            if (c1 != c2).any() :\n",
    "                L.append(np.linalg.norm(c1-c2))\n",
    "    inter_cluster = np.mean(np.array(L))\n",
    "    \n",
    "    silhouette_score = (inter_cluster - intra_cluster) / max(intra_cluster, inter_cluster)\n",
    "    return silhouette_score\n",
    "    "
   ]
  },
  {
   "cell_type": "code",
   "execution_count": 107,
   "metadata": {},
   "outputs": [],
   "source": [
    "def silhouette_method(X, k_min, k_max):\n",
    "    silhouette_scores = []\n",
    "    K = []\n",
    "    for k in range(k_min, k_max + 1):\n",
    "        cluster_labels, centroids, count  = KMeans(X,k)\n",
    "        #S = silhouette_score(X, cluster_labels, centroids)\n",
    "        S = sklearn.metrics.silhouette_score(X, cluster_labels)\n",
    "        silhouette_scores.append(S)\n",
    "        K.append(k)\n",
    "        print(k)\n",
    "    plt.plot(K, silhouette_scores)\n",
    "    plt.show()\n",
    "    return K, silhouette_scores"
   ]
  },
  {
   "cell_type": "markdown",
   "metadata": {},
   "source": [
    "On Z, reduced data with ACP"
   ]
  },
  {
   "cell_type": "code",
   "execution_count": 108,
   "metadata": {},
   "outputs": [
    {
     "name": "stdout",
     "output_type": "stream",
     "text": [
      "2\n",
      "3\n",
      "4\n",
      "5\n",
      "6\n",
      "7\n",
      "8\n",
      "9\n",
      "10\n"
     ]
    },
    {
     "data": {
      "image/png": "[encoded data removed]",
      "text/plain": [
       "<Figure size 432x288 with 1 Axes>"
      ]
     },
     "metadata": {
      "needs_background": "light"
     },
     "output_type": "display_data"
    }
   ],
   "source": [
    "K, silhouette_scores = silhouette_method(Z, 2, 10)"
   ]
  },
  {
   "cell_type": "markdown",
   "metadata": {},
   "source": [
    "**With the elbow method we can see where we have a shortage of the curve and choose the optimal number of clusters. Obsiouly, the silhouette does not seem to work with our dataset...** \n",
    "\n",
    "So finally, we choose **5 clusters** to work.\n"
   ]
  },
  {
   "cell_type": "markdown",
   "metadata": {},
   "source": [
    "#### Clustering with KMeans ++"
   ]
  },
  {
   "cell_type": "code",
   "execution_count": 72,
   "metadata": {},
   "outputs": [],
   "source": [
    "kmeans = cluster.KMeans(n_clusters=5, init = 'k-means++').fit(Z)"
   ]
  },
  {
   "cell_type": "code",
   "execution_count": 73,
   "metadata": {},
   "outputs": [],
   "source": [
    "kmeans_plus_pred = kmeans.labels_"
   ]
  },
  {
   "cell_type": "code",
   "execution_count": 74,
   "metadata": {},
   "outputs": [],
   "source": [
    "kmeans_random_pred = KMeans(Z, 5, max_it = 100)"
   ]
  },
  {
   "cell_type": "code",
   "execution_count": 75,
   "metadata": {},
   "outputs": [
    {
     "name": "stdout",
     "output_type": "stream",
     "text": [
      "Kmeans ++ : [0 0 0 4 0 2 3 3 3 4 2 3 2 4 1 2 4 4 4 4 2 4 4 4 4 2 4 1 3 3 0 3 3 3 1 1 3\n",
      " 3 3 2 1 3 3 3 1 3 3 2 3 3 3 3 2 2 0 3 3 2 2 3 2 4 4 2 2 3 3 2 3 3 3 2 0 2\n",
      " 3 0 3 3 3 0 3 0 3 3 3 2 2 0 0 3 3 3 3 4 2 3 0 3 3 3]\n",
      "Kmeans hom: [0 1 1 2 1 0 4 4 4 2 0 4 0 2 4 0 2 2 0 2 0 2 2 2 2 0 2 3 4 3 1 4 4 4 3 3 4\n",
      " 4 4 0 3 3 4 4 3 4 4 0 4 4 4 4 0 0 1 4 4 0 0 4 0 2 2 0 0 4 4 0 4 4 4 0 1 0\n",
      " 4 1 4 4 4 1 4 1 4 4 4 0 0 1 1 4 4 4 4 0 0 4 1 4 4 4]\n"
     ]
    }
   ],
   "source": [
    "print('Kmeans ++ :', kmeans_plus_pred[:100])\n",
    "print('Kmeans hom:', kmeans_random_pred[0][:100])"
   ]
  },
  {
   "cell_type": "markdown",
   "metadata": {},
   "source": [
    "Markdown to store the result in case we run it again with a different initialization of Kmeans\n",
    "```\n",
    "Kmeans ++ : [0 0 0 4 0 2 3 3 3 4 2 3 2 4 1 2 4 4 4 4 2 4 4 4 4 2 4 1 3 3 0 3 3 3 1 1 3\n",
    " 3 3 2 1 3 3 3 1 3 3 2 3 3 3 3 2 2 0 3 3 2 2 3 2 4 4 2 2 3 3 2 3 3 3 2 0 2\n",
    " 3 0 3 3 3 0 3 0 3 3 3 2 2 0 0 3 3 3 3 4 2 3 0 3 3 3]\n",
    "Kmeans hom: [0 1 1 2 1 0 4 4 4 2 0 4 0 2 4 0 2 2 0 2 0 2 2 2 2 0 2 3 4 3 1 4 4 4 3 3 4\n",
    " 4 4 0 3 3 4 4 3 4 4 0 4 4 4 4 0 0 1 4 4 0 0 4 0 2 2 0 0 4 4 0 4 4 4 0 1 0\n",
    " 4 1 4 4 4 1 4 1 4 4 4 0 0 1 1 4 4 4 4 0 0 4 1 4 4 4]\n",
    "```"
   ]
  },
  {
   "cell_type": "markdown",
   "metadata": {},
   "source": [
    "### Analyse the result and compare it\n",
    "\n",
    "We compute the confusion matrix to show if the clusters obtained with the two methos are the same or almost the same."
   ]
  },
  {
   "cell_type": "code",
   "execution_count": 76,
   "metadata": {},
   "outputs": [
    {
     "data": {
      "text/plain": [
       "array([[  23, 3095,    0,    0,    2],\n",
       "       [   3,    0,    4,  911,   10],\n",
       "       [4224,   10,    0,    0,   62],\n",
       "       [   0,   13,    0,   22, 2592],\n",
       "       [  76,    1, 2081,    0,    0]], dtype=int64)"
      ]
     },
     "execution_count": 76,
     "metadata": {},
     "output_type": "execute_result"
    }
   ],
   "source": [
    "# Confusion matrix \n",
    "KM_plus = []\n",
    "for el in kmeans_plus_pred:\n",
    "    KM_plus.append(el)\n",
    "    \n",
    "confusion_matrix(KM_plus, kmeans_random_pred[0])\n"
   ]
  },
  {
   "cell_type": "markdown",
   "metadata": {},
   "source": [
    "With this matrix we can conclude that there are some little differences. \n",
    "```\n",
    "array([[  23, 3095,    0,    0,    2],\n",
    "       [   3,    0,    4,  911,   10],\n",
    "       [4224,   10,    0,    0,   62],\n",
    "       [   0,   13,    0,   22, 2592],\n",
    "       [  76,    1, 2081,    0,    0]], dtype=int64)\n",
    "```\n",
    "The clusters found with the random initialization are quite the same as those found with Kmeans++. The differences are due to the initialization of the cluster's centers.\n"
   ]
  },
  {
   "cell_type": "markdown",
   "metadata": {},
   "source": [
    "### 2.4 Analysing your results!"
   ]
  },
  {
   "cell_type": "markdown",
   "metadata": {},
   "source": [
    "#### Choose relevant attributes\n",
    "* 'track_language_code' --> Language\n",
    "* 'track_duration' --> Duration\n",
    "* 'track_date_created' --> Date\n",
    "* 'metadata_artist_location'--> Country/Region/State\n",
    "* 'artist_name'--> Artist"
   ]
  },
  {
   "cell_type": "markdown",
   "metadata": {},
   "source": [
    "#### Numerical variables --> 4 categories "
   ]
  },
  {
   "cell_type": "code",
   "execution_count": 110,
   "metadata": {},
   "outputs": [],
   "source": [
    "merged_df_bis = pd.read_csv('merged_df.csv')\n",
    "\n",
    "# for variables which represent dates we will use the datetime type\n",
    "res = []\n",
    "for col in merged_df_bis.columns:\n",
    "    if ('date' in col) or ('year' in col):\n",
    "        merged_df_bis[col] = pd.to_numeric(pd.to_datetime(merged_df_bis[col], format = \"%Y-%m-%d\"))\n"
   ]
  },
  {
   "cell_type": "code",
   "execution_count": 111,
   "metadata": {},
   "outputs": [],
   "source": [
    "relevant_variables = merged_df_bis[['track_language_code', 'track_duration', 'track_date_created', 'metadata_artist_location', 'artist_name']]"
   ]
  },
  {
   "cell_type": "code",
   "execution_count": 112,
   "metadata": {},
   "outputs": [
    {
     "data": {
      "text/html": [
       "<div>\n",
       "<style scoped>\n",
       "    .dataframe tbody tr th:only-of-type {\n",
       "        vertical-align: middle;\n",
       "    }\n",
       "\n",
       "    .dataframe tbody tr th {\n",
       "        vertical-align: top;\n",
       "    }\n",
       "\n",
       "    .dataframe thead th {\n",
       "        text-align: right;\n",
       "    }\n",
       "</style>\n",
       "<table border=\"1\" class=\"dataframe\">\n",
       "  <thead>\n",
       "    <tr style=\"text-align: right;\">\n",
       "      <th></th>\n",
       "      <th>track_language_code</th>\n",
       "      <th>track_duration</th>\n",
       "      <th>track_date_created</th>\n",
       "      <th>metadata_artist_location</th>\n",
       "      <th>artist_name</th>\n",
       "    </tr>\n",
       "  </thead>\n",
       "  <tbody>\n",
       "    <tr>\n",
       "      <th>0</th>\n",
       "      <td>en</td>\n",
       "      <td>168</td>\n",
       "      <td>1227664092000000000</td>\n",
       "      <td>Georgia, US</td>\n",
       "      <td>AWOL</td>\n",
       "    </tr>\n",
       "    <tr>\n",
       "      <th>1</th>\n",
       "      <td>en</td>\n",
       "      <td>237</td>\n",
       "      <td>1227664094000000000</td>\n",
       "      <td>Georgia, US</td>\n",
       "      <td>AWOL</td>\n",
       "    </tr>\n",
       "    <tr>\n",
       "      <th>2</th>\n",
       "      <td>en</td>\n",
       "      <td>206</td>\n",
       "      <td>1227664100000000000</td>\n",
       "      <td>Georgia, US</td>\n",
       "      <td>AWOL</td>\n",
       "    </tr>\n",
       "    <tr>\n",
       "      <th>3</th>\n",
       "      <td>en</td>\n",
       "      <td>161</td>\n",
       "      <td>1227635346000000000</td>\n",
       "      <td>Philadelphia, PA, US</td>\n",
       "      <td>Kurt Vile</td>\n",
       "    </tr>\n",
       "    <tr>\n",
       "      <th>4</th>\n",
       "      <td>en</td>\n",
       "      <td>207</td>\n",
       "      <td>1227663799000000000</td>\n",
       "      <td>Georgia, US</td>\n",
       "      <td>AWOL</td>\n",
       "    </tr>\n",
       "  </tbody>\n",
       "</table>\n",
       "</div>"
      ],
      "text/plain": [
       "  track_language_code  track_duration   track_date_created  \\\n",
       "0                  en             168  1227664092000000000   \n",
       "1                  en             237  1227664094000000000   \n",
       "2                  en             206  1227664100000000000   \n",
       "3                  en             161  1227635346000000000   \n",
       "4                  en             207  1227663799000000000   \n",
       "\n",
       "  metadata_artist_location artist_name  \n",
       "0              Georgia, US        AWOL  \n",
       "1              Georgia, US        AWOL  \n",
       "2              Georgia, US        AWOL  \n",
       "3     Philadelphia, PA, US   Kurt Vile  \n",
       "4              Georgia, US        AWOL  "
      ]
     },
     "execution_count": 112,
     "metadata": {},
     "output_type": "execute_result"
    }
   ],
   "source": [
    "relevant_variables.head()"
   ]
  },
  {
   "cell_type": "code",
   "execution_count": 113,
   "metadata": {},
   "outputs": [
    {
     "name": "stdout",
     "output_type": "stream",
     "text": [
      "<class 'pandas.core.frame.DataFrame'>\n",
      "RangeIndex: 13129 entries, 0 to 13128\n",
      "Data columns (total 5 columns):\n",
      " #   Column                    Non-Null Count  Dtype \n",
      "---  ------                    --------------  ----- \n",
      " 0   track_language_code       5823 non-null   object\n",
      " 1   track_duration            13129 non-null  int64 \n",
      " 2   track_date_created        13129 non-null  int64 \n",
      " 3   metadata_artist_location  9770 non-null   object\n",
      " 4   artist_name               13129 non-null  object\n",
      "dtypes: int64(2), object(3)\n",
      "memory usage: 513.0+ KB\n"
     ]
    }
   ],
   "source": [
    "relevant_variables.info()"
   ]
  },
  {
   "cell_type": "markdown",
   "metadata": {},
   "source": [
    "We have two possibilities to split our numerical values in 4 categories :\n",
    "- either we make categories with the same width, but we will have representation (i mean numbers of values in each categories) very different\n",
    "- or we make categories with the same number of values, but the width of the categories will more or less big\n",
    "\n",
    "**We chose to use categories with different width but with the same number of points to be more relevant.**"
   ]
  },
  {
   "cell_type": "code",
   "execution_count": 114,
   "metadata": {},
   "outputs": [
    {
     "data": {
      "image/png": "[encoded data removed]",
      "text/plain": [
       "<Figure size 432x288 with 1 Axes>"
      ]
     },
     "metadata": {
      "needs_background": "light"
     },
     "output_type": "display_data"
    }
   ],
   "source": [
    "# 'track_duration' is integer/numerical variable so we have to make 4 categories \n",
    "relevant_variables['track_duration'].hist(bins = 100)\n",
    "plt.show()\n"
   ]
  },
  {
   "cell_type": "code",
   "execution_count": 115,
   "metadata": {},
   "outputs": [
    {
     "name": "stdout",
     "output_type": "stream",
     "text": [
      "threshold_0 = 18\n",
      "threshold_1 = 156\n",
      "threshold_2 = 214\n",
      "threshold_3 = 282\n",
      "threshold_4 = 3033\n"
     ]
    }
   ],
   "source": [
    "# 'track_date_created' is integer/numerical variable so we have to make 4 categories \n",
    "#relevant_variables['track_date_created'] = preprocessing.StandardScaler().fit_transform(relevant_variables[['track_date_created']].to_numpy())\n",
    "\n",
    "col = relevant_variables['track_duration']\n",
    "\n",
    "threshold_0 = col.min()\n",
    "threshold_1 = sorted(col)[len(col)//4]\n",
    "threshold_2 = sorted(col)[len(col)//4 * 2]\n",
    "threshold_3 = sorted(col)[len(col)//4 * 3]\n",
    "threshold_4 = col.max()\n",
    "\n",
    "print(\"threshold_0 =\", threshold_0)\n",
    "print(\"threshold_1 =\",threshold_1)\n",
    "print(\"threshold_2 =\",threshold_2)\n",
    "print(\"threshold_3 =\",threshold_3)\n",
    "print(\"threshold_4 =\",threshold_4)\n",
    "\n",
    "relevant_variables['track_duration_categories'] = 0\n",
    "relevant_variables['track_duration_categories'].loc[(threshold_0 <= col) & (col < threshold_1)] = 1\n",
    "relevant_variables['track_duration_categories'].loc[(threshold_1 <= col) & (col < threshold_2)] = 2\n",
    "relevant_variables['track_duration_categories'].loc[(threshold_2 <= col) & (col < threshold_3)] = 3\n",
    "relevant_variables['track_duration_categories'].loc[(threshold_3 <= col) & (col <= threshold_4)] = 4"
   ]
  },
  {
   "cell_type": "code",
   "execution_count": 138,
   "metadata": {},
   "outputs": [
    {
     "data": {
      "text/plain": [
       "<matplotlib.axes._subplots.AxesSubplot at 0x1c082433d88>"
      ]
     },
     "execution_count": 138,
     "metadata": {},
     "output_type": "execute_result"
    },
    {
     "data": {
      "image/png": "[encoded data removed]",
      "text/plain": [
       "<Figure size 432x288 with 1 Axes>"
      ]
     },
     "metadata": {
      "needs_background": "light"
     },
     "output_type": "display_data"
    }
   ],
   "source": [
    "# 'track_date_created' is integer/numerical variable so we have to make 4 categories \n",
    "#relevant_variables['track_date_created'] = preprocessing.StandardScaler().fit_transform(relevant_variables[['track_date_created']].to_numpy())\n",
    "relevant_variables['track_date_created'].hist(bins = 100)\n"
   ]
  },
  {
   "cell_type": "code",
   "execution_count": 116,
   "metadata": {},
   "outputs": [
    {
     "name": "stdout",
     "output_type": "stream",
     "text": [
      "2008-11-25 18:49:06\n",
      "2009-05-15 18:55:43\n",
      "2010-04-09 15:05:48\n",
      "2011-03-06 07:20:57\n",
      "2015-09-11 14:10:09\n"
     ]
    }
   ],
   "source": [
    "# 'track_date_created' is integer/numerical variable so we have to make 4 categories \n",
    "#relevant_variables['track_date_created'] = preprocessing.StandardScaler().fit_transform(relevant_variables[['track_date_created']].to_numpy())\n",
    "\n",
    "col = relevant_variables['track_date_created']\n",
    "\n",
    "threshold_0 = col.min()\n",
    "threshold_1 = sorted(col)[len(col)//4]\n",
    "threshold_2 = sorted(col)[len(col)//4 * 2]\n",
    "threshold_3 = sorted(col)[len(col)//4 * 3]\n",
    "threshold_4 = col.max()\n",
    "\n",
    "print(datetime.datetime.fromtimestamp(threshold_0 / 1e9))\n",
    "print(datetime.datetime.fromtimestamp(threshold_1 / 1e9))\n",
    "print(datetime.datetime.fromtimestamp(threshold_2 / 1e9))\n",
    "print(datetime.datetime.fromtimestamp(threshold_3 / 1e9))\n",
    "print(datetime.datetime.fromtimestamp(threshold_4 / 1e9))\n",
    "\n",
    "\n",
    "relevant_variables['track_date_created_categories'] = 0\n",
    "relevant_variables['track_date_created_categories'].loc[(threshold_0 <= col) & (col < threshold_1)] = 1\n",
    "relevant_variables['track_date_created_categories'].loc[(threshold_1 <= col) & (col < threshold_2)] = 2\n",
    "relevant_variables['track_date_created_categories'].loc[(threshold_2 <= col) & (col < threshold_3)] = 3\n",
    "relevant_variables['track_date_created_categories'].loc[(threshold_3 <= col) & (col <= threshold_4)] = 4"
   ]
  },
  {
   "cell_type": "markdown",
   "metadata": {},
   "source": [
    "#### add the prediction of the clusters"
   ]
  },
  {
   "cell_type": "code",
   "execution_count": 168,
   "metadata": {},
   "outputs": [],
   "source": [
    "merged_df_bis['pred_clusters'] = kmeans_random_pred[0]\n",
    "relevant_variables['pred_clusters'] = kmeans_random_pred[0]\n",
    "relevant_variables['Unnamed: 0']= merged_df_bis['Unnamed: 0']"
   ]
  },
  {
   "cell_type": "markdown",
   "metadata": {},
   "source": [
    "#### Create the pivot tables"
   ]
  },
  {
   "cell_type": "code",
   "execution_count": 121,
   "metadata": {},
   "outputs": [],
   "source": [
    "variables = ['track_language_code', 'track_duration_categories', 'track_date_created_categories', 'metadata_artist_location', 'artist_name'] # \n",
    "pivot_tables = []\n",
    "for var in variables :\n",
    "    table = pd.pivot_table(relevant_variables, index = var,  values= 'Unnamed: 0',\n",
    "                           columns = ['pred_clusters'], aggfunc = 'count', fill_value=0)\n",
    "    table = table.apply(lambda col : col/sum(col)*100).round(2)\n",
    "    pivot_tables.append((var, table))\n",
    "    "
   ]
  },
  {
   "cell_type": "code",
   "execution_count": 122,
   "metadata": {
    "scrolled": false
   },
   "outputs": [
    {
     "name": "stdout",
     "output_type": "stream",
     "text": [
      "Pivot Tables of the variables : track_language_code \n",
      "\n",
      "pred_clusters            0      1      2     3      4\n",
      "track_language_code                                  \n",
      "ar                    0.00   0.08   0.00   0.0   0.34\n",
      "bm                    0.00   0.00   0.00   0.0   0.09\n",
      "cs                    0.05   0.00   0.11   0.0   0.00\n",
      "de                    0.16   0.00   0.00   0.0   0.09\n",
      "el                    0.05   0.00   0.42   0.0   0.00\n",
      "en                   95.61  93.88  96.50  99.8  96.15\n",
      "es                    2.09   3.33   1.80   0.2   1.03\n",
      "fi                    0.00   0.00   0.00   0.0   0.26\n",
      "fr                    0.05   1.24   0.00   0.0   0.34\n",
      "it                    0.21   0.23   0.11   0.0   0.43\n",
      "ja                    0.00   0.23   0.00   0.0   0.00\n",
      "ko                    0.00   0.00   0.11   0.0   0.00\n",
      "pt                    0.26   0.93   0.11   0.0   0.68\n",
      "ru                    0.42   0.08   0.21   0.0   0.00\n",
      "sr                    0.21   0.00   0.21   0.0   0.00\n",
      "sw                    0.16   0.00   0.00   0.0   0.17\n",
      "tr                    0.68   0.00   0.32   0.0   0.43\n",
      "zh                    0.05   0.00   0.11   0.0   0.00 \n",
      "\n",
      "\n",
      "\n",
      "Pivot Tables of the variables : track_duration_categories \n",
      "\n",
      "pred_clusters                  0      1      2      3      4\n",
      "track_duration_categories                                   \n",
      "1                          22.68  18.95  44.94  33.23  16.09\n",
      "2                          27.37  21.55  25.13  36.12  22.06\n",
      "3                          27.05  29.14  16.55  16.72  26.44\n",
      "4                          22.91  30.36  13.38  13.93  35.41 \n",
      "\n",
      "\n",
      "\n",
      "Pivot Tables of the variables : track_date_created_categories \n",
      "\n",
      "pred_clusters                      0      1      2      3      4\n",
      "track_date_created_categories                                   \n",
      "1                              27.12  18.08  30.89  24.54  25.21\n",
      "2                              20.53  31.42  20.48  37.62  23.86\n",
      "3                              22.42  32.09  23.17  23.47  22.84\n",
      "4                              29.94  18.40  25.47  14.36  28.09 \n",
      "\n",
      "\n",
      "\n",
      "Pivot Tables of the variables : metadata_artist_location \n",
      "\n",
      "pred_clusters                              0     1     2     3     4\n",
      "metadata_artist_location                                            \n",
      "'t Sas, North Brabant, NL               0.00  0.00  0.00  0.21  0.00\n",
      "07063, Plainfield, NJ, US               0.09  0.24  0.90  0.00  0.00\n",
      "Aalborg, Denmark                        0.00  0.24  0.00  0.00  0.05\n",
      "Aarhus Central, Arhus, Midtjylland, DK  0.03  0.00  0.00  0.00  0.00\n",
      "Aberdeen, Scotland, GB                  0.00  0.00  0.00  0.00  0.05\n",
      "...                                      ...   ...   ...   ...   ...\n",
      "new york, ny                            0.14  0.00  0.36  0.00  0.00\n",
      "quebec, canada                          0.00  0.00  0.00  0.00  0.05\n",
      "san francisco, ca                       0.23  0.00  0.12  0.00  0.00\n",
      "Östersund, Jamtland, SE                 0.03  0.00  0.00  0.00  0.00\n",
      "Świdnica, Lower Silesia, PL             0.00  0.00  0.00  0.00  0.05\n",
      "\n",
      "[949 rows x 5 columns] \n",
      "\n",
      "\n",
      "\n",
      "Pivot Tables of the variables : artist_name \n",
      "\n",
      "pred_clusters         0     1     2     3     4\n",
      "artist_name                                    \n",
      "'Gene Green        0.00  0.00  0.00  0.11  0.00\n",
      "/'angstalt/        0.00  0.00  0.00  0.00  0.04\n",
      "00Genesis          0.02  0.00  0.00  0.00  0.00\n",
      "1-800-Band         0.05  0.00  0.05  0.00  0.04\n",
      "1.6 Band           0.16  0.00  0.19  0.00  0.00\n",
      "...                 ...   ...   ...   ...   ...\n",
      "wang inc.          0.00  0.03  0.00  0.00  0.00\n",
      "youthmanSteppa     0.02  0.00  0.00  0.00  0.00\n",
      "zastranienie       0.12  0.13  0.05  0.00  0.00\n",
      "zero consequences  0.02  0.10  0.00  0.00  0.04\n",
      "µB                 0.00  0.06  0.00  0.00  0.00\n",
      "\n",
      "[2873 rows x 5 columns] \n",
      "\n",
      "\n",
      "\n"
     ]
    }
   ],
   "source": [
    "for i in range(len(variables)):\n",
    "    print('Pivot Tables of the variables :', pivot_tables[i][0], '\\n')\n",
    "    print(pivot_tables[i][1], '\\n\\n\\n')"
   ]
  },
  {
   "cell_type": "markdown",
   "metadata": {},
   "source": [
    "#### Analysis of tables "
   ]
  },
  {
   "cell_type": "markdown",
   "metadata": {},
   "source": [
    "##### Pivot Tables of the variables : track_language_code \n",
    "    \n",
    "With this pivot table which shows the link between the language of the songs, we can tell that :\n",
    "\n",
    "- English songs (en) represent a great majority of songs in each clusters\n",
    "- The **cluster n°3** is represented with almost only **english songs**- en (99.8 %)\n",
    "- Some languages are in the only one cluster : for example :\n",
    "    - \"bm\" \"fi\" in clusters 4,\n",
    "    - \"ja\" (japanese) in cluster 1,\n",
    "    - \"ko\" in cluster 3\n",
    "    \n",
    "  So it means that the songs of **those language are easy to classify**.\n",
    "\n",
    "Finally, the language of a song can be a very relevant indicators to choose the clusters, except for english song because there is to many songs in this languages to differentiate it. \n",
    "    \n",
    "\n",
    "##### Pivot Tables of the variables : track_duration_categories \n",
    "\n",
    "We divided this attributes in four categories. The duration of the songs increases with the number of the category.\n",
    "We can tell that :\n",
    "- In the cluster 2 the duration tends to be shorter. Indeed, almost 45% the songs of this clusters have a duration in the first category, the shortest (less than 156s). Also for cluster 3, the music are \"short\" : 69% of songs under 214s. \n",
    "- In contrary, in the clusters 1 and 4 the duration tends to be longer. Indeed, almost 60% for cluster 1 and 62% for cluster 4 of the songs have a duration in the categories 3 and 4, the longest (more than 214s)\n",
    "- For cluster 0, the duration is better distributed.\n",
    "\n",
    "\n",
    "##### Pivot Tables of the variables : track_date_created_categories \n",
    "\n",
    "We divided this attributes in four categories. The date of creation of the songs increases with the number of the category.\n",
    "We sould note that there is a lot of None-value for this attributes. \n",
    "We can tell that :\n",
    "- In cluster 0, the songs seem to have more often one of oldest or most recent date of creation of the dataset, before May 200ç and after March 2011.\n",
    "- In the cluster 1, it is more in the middle of date of creation (categories 2 and 3)\n",
    "- In the cluster 2, the songs seem to have more often one of oldest or most recent date of creation of the dataset. \n",
    "- In the cluster 3, it is more in the category 2 (between May 2009 and April 2010)\n",
    "- In cluster 4, the date of creation is better distributed.\n",
    "\n",
    "\n",
    "##### Pivot Tables of the variables : metadata_artist_location \n",
    "\n",
    "In this table, it is more difficult to analyse something because there are too many different categories/location. However, one can nevertheless observe that most of the time a location is only represented in only one or two clusters, but it often for little city. In contrary, for big city it is more scattered. It means that the city in which the song was created is relevant to chose the cluster most of the time.\n",
    "\n",
    "##### Pivot Tables of the variables : artist_name \n",
    "\n",
    "For artist name, it is quite the same as artist_location. Indeed, most of the time the artist is only represented in only one (or two but less) clusters.\n",
    "Moreover, the representation of an artist in one cluster depends also on the number of songs he created. We can say that an artist is often attached to one cluster, maybe due to the genre of the artist.\n",
    "\n",
    "\n",
    "#### Of courses all of this analysis would be quite different if we run again our Kmeans algorithm because the initialization would be different, the clusters' labels and the pivot tables. \n"
   ]
  },
  {
   "cell_type": "markdown",
   "metadata": {},
   "source": [
    "#### 2.4.6. Compare the obtained clusters to the reality genre"
   ]
  },
  {
   "cell_type": "code",
   "execution_count": 172,
   "metadata": {},
   "outputs": [
    {
     "data": {
      "text/html": [
       "<div>\n",
       "<style scoped>\n",
       "    .dataframe tbody tr th:only-of-type {\n",
       "        vertical-align: middle;\n",
       "    }\n",
       "\n",
       "    .dataframe tbody tr th {\n",
       "        vertical-align: top;\n",
       "    }\n",
       "\n",
       "    .dataframe thead th {\n",
       "        text-align: right;\n",
       "    }\n",
       "</style>\n",
       "<table border=\"1\" class=\"dataframe\">\n",
       "  <thead>\n",
       "    <tr style=\"text-align: right;\">\n",
       "      <th></th>\n",
       "      <th>track_genre_top</th>\n",
       "      <th>track_genres</th>\n",
       "      <th>track_genres_all</th>\n",
       "    </tr>\n",
       "  </thead>\n",
       "  <tbody>\n",
       "    <tr>\n",
       "      <th>0</th>\n",
       "      <td>Hip-Hop</td>\n",
       "      <td>[21]</td>\n",
       "      <td>[21]</td>\n",
       "    </tr>\n",
       "    <tr>\n",
       "      <th>1</th>\n",
       "      <td>Hip-Hop</td>\n",
       "      <td>[21]</td>\n",
       "      <td>[21]</td>\n",
       "    </tr>\n",
       "    <tr>\n",
       "      <th>2</th>\n",
       "      <td>Hip-Hop</td>\n",
       "      <td>[21]</td>\n",
       "      <td>[21]</td>\n",
       "    </tr>\n",
       "    <tr>\n",
       "      <th>3</th>\n",
       "      <td>Pop</td>\n",
       "      <td>[10]</td>\n",
       "      <td>[10]</td>\n",
       "    </tr>\n",
       "    <tr>\n",
       "      <th>4</th>\n",
       "      <td>Hip-Hop</td>\n",
       "      <td>[21]</td>\n",
       "      <td>[21]</td>\n",
       "    </tr>\n",
       "    <tr>\n",
       "      <th>...</th>\n",
       "      <td>...</td>\n",
       "      <td>...</td>\n",
       "      <td>...</td>\n",
       "    </tr>\n",
       "    <tr>\n",
       "      <th>13124</th>\n",
       "      <td>NaN</td>\n",
       "      <td>[286, 542]</td>\n",
       "      <td>[542, 21, 286, 15]</td>\n",
       "    </tr>\n",
       "    <tr>\n",
       "      <th>13125</th>\n",
       "      <td>NaN</td>\n",
       "      <td>[286, 542]</td>\n",
       "      <td>[542, 21, 286, 15]</td>\n",
       "    </tr>\n",
       "    <tr>\n",
       "      <th>13126</th>\n",
       "      <td>NaN</td>\n",
       "      <td>[286, 542]</td>\n",
       "      <td>[542, 21, 286, 15]</td>\n",
       "    </tr>\n",
       "    <tr>\n",
       "      <th>13127</th>\n",
       "      <td>NaN</td>\n",
       "      <td>[286, 542]</td>\n",
       "      <td>[542, 21, 286, 15]</td>\n",
       "    </tr>\n",
       "    <tr>\n",
       "      <th>13128</th>\n",
       "      <td>NaN</td>\n",
       "      <td>[5, 15]</td>\n",
       "      <td>[5, 15]</td>\n",
       "    </tr>\n",
       "  </tbody>\n",
       "</table>\n",
       "<p>13129 rows × 3 columns</p>\n",
       "</div>"
      ],
      "text/plain": [
       "      track_genre_top track_genres    track_genres_all\n",
       "0             Hip-Hop         [21]                [21]\n",
       "1             Hip-Hop         [21]                [21]\n",
       "2             Hip-Hop         [21]                [21]\n",
       "3                 Pop         [10]                [10]\n",
       "4             Hip-Hop         [21]                [21]\n",
       "...               ...          ...                 ...\n",
       "13124             NaN   [286, 542]  [542, 21, 286, 15]\n",
       "13125             NaN   [286, 542]  [542, 21, 286, 15]\n",
       "13126             NaN   [286, 542]  [542, 21, 286, 15]\n",
       "13127             NaN   [286, 542]  [542, 21, 286, 15]\n",
       "13128             NaN      [5, 15]             [5, 15]\n",
       "\n",
       "[13129 rows x 3 columns]"
      ]
     },
     "execution_count": 172,
     "metadata": {},
     "output_type": "execute_result"
    }
   ],
   "source": [
    "merged_df_bis[[\"track_genre_top\", \"track_genres\", \"track_genres_all\"]]"
   ]
  },
  {
   "cell_type": "code",
   "execution_count": 174,
   "metadata": {},
   "outputs": [
    {
     "name": "stdout",
     "output_type": "stream",
     "text": [
      "pred_clusters           0     1     2    3    4\n",
      "track_genre_top                                \n",
      "Blues                  20     7     0    2   37\n",
      "Classical               9     3     3  169   81\n",
      "Electronic            414  1123   296   42  295\n",
      "Experimental            6     2     2    2    5\n",
      "Folk                  218    22    42  101  491\n",
      "Hip-Hop               191   590    90    1   38\n",
      "Instrumental           28    10     8    6   32\n",
      "International          49    16    17    6   45\n",
      "Jazz                   48    25    19   18  131\n",
      "Old-Time / Historic     5     1     3  344    4\n",
      "Pop                   118    62    40    4  122\n",
      "Rock                 2024   214  1171   24  459 \n",
      "\n",
      "\n",
      "pred_clusters            0      1      2      3      4\n",
      "track_genre_top                                       \n",
      "Blues                 0.64   0.34   0.00   0.28   2.13\n",
      "Classical             0.29   0.14   0.18  23.50   4.66\n",
      "Electronic           13.23  54.12  17.50   5.84  16.95\n",
      "Experimental          0.19   0.10   0.12   0.28   0.29\n",
      "Folk                  6.96   1.06   2.48  14.05  28.22\n",
      "Hip-Hop               6.10  28.43   5.32   0.14   2.18\n",
      "Instrumental          0.89   0.48   0.47   0.83   1.84\n",
      "International         1.57   0.77   1.01   0.83   2.59\n",
      "Jazz                  1.53   1.20   1.12   2.50   7.53\n",
      "Old-Time / Historic   0.16   0.05   0.18  47.84   0.23\n",
      "Pop                   3.77   2.99   2.37   0.56   7.01\n",
      "Rock                 64.66  10.31  69.25   3.34  26.38\n"
     ]
    }
   ],
   "source": [
    "table = pd.pivot_table(merged_df_bis, index = 'track_genre_top',  values= 'Unnamed: 0',\n",
    "                           columns = ['pred_clusters'], aggfunc = 'count', fill_value=0)\n",
    "print(table, '\\n\\n')\n",
    "table = table.apply(lambda col : col/sum(col)*100).round(2)\n",
    "print(table)"
   ]
  },
  {
   "cell_type": "markdown",
   "metadata": {},
   "source": [
    "##### Pivot Tables of the variables : track_genre_top\n",
    "\n",
    "To compare the obtained clusters to the reality genre, we compute the pivot table (numbers and percentages) between clusters and the variable **\"track_genre_top\"** which represents the genre the most representative for each song. However, we can note that the variables **\"track_genres_all\"** shows that one music can belongs to several genres.\n",
    "\n",
    "- cluster 0 : Rock 65%, Electronic 13%, Folk 7%, Hip-Hop 6%\n",
    "- cluster 1 : Electronic 54%, Hip Hop 28%, Rock 10%\n",
    "- cluster 2 : Rock 69%, Electronic 17%\n",
    "- cluster 3 : Old-Time / Historic 47%, Classical 23%, Folk 14.05% \n",
    "- cluster 4 : Folk 28%, Rock 26%, Electronic 17% \n",
    "\n",
    "Rock is often represented in the cluster, except cluster 3, but it is due to the fact that there many more songs of rock in the dataset than the others genres. \n",
    "\n",
    "We can see also that each genre has often one cluster in which it is more represented.\n",
    "- Blues --> 4   \n",
    "- Classical --> 3\n",
    "- Electronic --> 1\n",
    "- Experimental --> None\n",
    "- Folk --> 4\n",
    "- Hip-Hop --> 1\n",
    "- Instrumental --> 0 and 4\n",
    "- International --> 0 and 4\n",
    "- Jazz --> 4\n",
    "- Old-Time / Historic --> 3\n",
    "- Pop --> 0 and 4\n",
    "- Rock --> 0 and 2\n",
    "\n",
    "#### Of courses all of this analysis would be quite different if we run again our Kmeans algorithm because the initialization would be different, the clusters' labels and the pivot tables. "
   ]
  },
  {
   "cell_type": "markdown",
   "metadata": {},
   "source": [
    "#### 2.4.7 KMeans ++ Analysis"
   ]
  },
  {
   "cell_type": "code",
   "execution_count": 16,
   "metadata": {},
   "outputs": [],
   "source": [
    "df = pd.merge(features, tracks, on='track_id', how='left')"
   ]
  },
  {
   "cell_type": "code",
   "execution_count": 17,
   "metadata": {},
   "outputs": [
    {
     "name": "stdout",
     "output_type": "stream",
     "text": [
      "album_engineer\n",
      "album_producer\n",
      "artist_active_year_begin\n",
      "artist_active_year_end\n",
      "artist_associated_labels\n",
      "artist_latitude\n",
      "artist_longitude\n",
      "artist_members\n",
      "artist_related_projects\n",
      "artist_wikipedia_page\n",
      "track_composer\n",
      "track_date_recorded\n",
      "track_genre_top\n",
      "track_information\n",
      "track_language_code\n",
      "track_lyricist\n",
      "track_publisher\n"
     ]
    },
    {
     "name": "stderr",
     "output_type": "stream",
     "text": [
      "C:\\Users\\aurel\\Downloads\\Anaconda3\\lib\\site-packages\\ipykernel_launcher.py:38: PerformanceWarning: DataFrame is highly fragmented.  This is usually the result of calling `frame.insert` many times, which has poor performance.  Consider joining all columns at once using pd.concat(axis=1) instead.  To get a de-fragmented frame, use `newframe = frame.copy()`\n"
     ]
    }
   ],
   "source": [
    "#drop columns with too few values (almost the half)\n",
    "col_dropped=[]\n",
    "for col in df.columns:\n",
    "    nb_missed = df[col].isna().sum() \n",
    "    n = df.shape[0]\n",
    "    if nb_missed > 50000 :\n",
    "        print(col)\n",
    "        col_dropped.append(col)\n",
    "        df.drop([col], axis = 1, inplace = True)\n",
    "    else :\n",
    "        if 'genre' in col :\n",
    "            col_dropped.append(col)\n",
    "            df.drop([col], axis = 1, inplace = True)\n",
    "        \n",
    "# for variables which represent dates we will use the datetime type\n",
    "res = []\n",
    "for col in df.columns:\n",
    "    if ('date' in col) or ('year' in col):\n",
    "        df[col] = pd.to_numeric(pd.to_datetime(df[col], format = \"%Y-%m-%d %H:%M:%S\"))\n",
    "        \n",
    "# store and encode object values + store numerical value in two different DataFrame\n",
    "encoded_df2 = pd.DataFrame()\n",
    "num_df2 = pd.DataFrame()\n",
    "\n",
    "for col in df.columns:\n",
    "    \n",
    "    #columns with non-numeric values\n",
    "    if df[col].dtype == object :\n",
    "        #replace missing values by 'None'\n",
    "        df[col].fillna(\"None\", inplace = True)  \n",
    "        le = preprocessing.LabelEncoder()\n",
    "        encoded_df2[col]= le.fit_transform(df[col])\n",
    "    \n",
    "    #columns with numeric values\n",
    "    else :\n",
    "        #replace missing values by the mean of the column\n",
    "        df[col].fillna(df[col].mean(), inplace = True)\n",
    "        num_df2[col] = df[col]"
   ]
  },
  {
   "cell_type": "markdown",
   "metadata": {},
   "source": [
    "We apply the PCA with **53 components**, in order to have at least 70% of the total variance (of the numerical part)."
   ]
  },
  {
   "cell_type": "code",
   "execution_count": 26,
   "metadata": {},
   "outputs": [],
   "source": [
    "#normalize for ACP\n",
    "X1 = num_df2.to_numpy()\n",
    "Z1 = preprocessing.StandardScaler().fit_transform(X1) # normalize\n",
    "\n",
    "pca = PCA(n_components=53)\n",
    "A = pca.fit_transform(Z1)"
   ]
  },
  {
   "cell_type": "code",
   "execution_count": 27,
   "metadata": {},
   "outputs": [
    {
     "name": "stdout",
     "output_type": "stream",
     "text": [
      "The partial variance is equal to : 0.7002386426036356\n"
     ]
    }
   ],
   "source": [
    "print(\"The partial variance is equal to :\", np.cumsum(pca.explained_variance_ratio_)[-1])"
   ]
  },
  {
   "cell_type": "code",
   "execution_count": 28,
   "metadata": {},
   "outputs": [
    {
     "data": {
      "text/plain": [
       "(106574, 67)"
      ]
     },
     "execution_count": 28,
     "metadata": {},
     "output_type": "execute_result"
    }
   ],
   "source": [
    "X2 = encoded_df2.to_numpy()\n",
    "Z2 = preprocessing.StandardScaler().fit_transform(X2)\n",
    "\n",
    "# final reducted matrix\n",
    "Z2 = np.hstack((A, Z2))\n",
    "Z2.shape"
   ]
  },
  {
   "cell_type": "code",
   "execution_count": 76,
   "metadata": {},
   "outputs": [
    {
     "name": "stdout",
     "output_type": "stream",
     "text": [
      "2\n",
      "3\n",
      "4\n",
      "5\n",
      "6\n",
      "7\n",
      "8\n",
      "9\n",
      "10\n",
      "11\n",
      "12\n",
      "13\n",
      "14\n",
      "15\n",
      "16\n",
      "17\n",
      "18\n",
      "19\n",
      "20\n"
     ]
    },
    {
     "data": {
      "image/png": "[encoded data removed]",
      "text/plain": [
       "<Figure size 432x288 with 1 Axes>"
      ]
     },
     "metadata": {
      "needs_background": "light"
     },
     "output_type": "display_data"
    }
   ],
   "source": [
    "K, inertia = elbow_method(Z2, 2, 20)"
   ]
  },
  {
   "cell_type": "code",
   "execution_count": 80,
   "metadata": {},
   "outputs": [],
   "source": [
    "def elbow_method2(X, k_min, k_max):\n",
    "    inertia = []\n",
    "    K = []\n",
    "    for k in range(k_min, k_max + 1):\n",
    "        KMEANS = cluster.KMeans(n_clusters=k, init = 'k-means++').fit(X)\n",
    "        cluster_labels, centroids  = KMEANS.labels_, KMEANS.cluster_centers_\n",
    "        inertia.append(KMEANS.inertia_)\n",
    "        K.append(k)\n",
    "        print(k)\n",
    "    plt.plot(K, inertia)\n",
    "    plt.show()\n",
    "    return K, inertia\n",
    "\n"
   ]
  },
  {
   "cell_type": "code",
   "execution_count": 86,
   "metadata": {},
   "outputs": [
    {
     "name": "stdout",
     "output_type": "stream",
     "text": [
      "2\n",
      "3\n",
      "4\n",
      "5\n",
      "6\n",
      "7\n",
      "8\n",
      "9\n",
      "10\n",
      "11\n",
      "12\n",
      "13\n",
      "14\n",
      "15\n",
      "16\n",
      "17\n",
      "18\n",
      "19\n",
      "20\n"
     ]
    },
    {
     "data": {
      "image/png": "[encoded data removed]",
      "text/plain": [
       "<Figure size 432x288 with 1 Axes>"
      ]
     },
     "metadata": {
      "needs_background": "light"
     },
     "output_type": "display_data"
    }
   ],
   "source": [
    "K2, inertia2 = elbow_method2(Z2, 2, 20)"
   ]
  },
  {
   "cell_type": "markdown",
   "metadata": {},
   "source": [
    "We chose to keep 7 clusters as optimal number even if the curve break is less obvious than previously."
   ]
  },
  {
   "cell_type": "markdown",
   "metadata": {},
   "source": [
    "#### Choose relevant attributes - quite the same as previously\n",
    "\n",
    "* 'track_language_code' --> Language\n",
    "* 'track_duration' --> Duration\n",
    "* 'track_date_created' --> Date\n",
    "* 'artist_location'--> Country/Region/State      \n",
    "    - We choose \"artist_location\" instead of \"metadata_artist_location\" previously because it was a variable of echonest\n",
    "* 'artist_name'--> Artist"
   ]
  },
  {
   "cell_type": "code",
   "execution_count": 44,
   "metadata": {},
   "outputs": [],
   "source": [
    "df_bis = pd.merge(features, tracks, on='track_id', how='left')\n",
    "\n",
    "# for variables which represent dates we will use the datetime type\n",
    "res = []\n",
    "for col in df_bis.columns:\n",
    "    if ('date' in col) or ('year' in col):\n",
    "        df_bis[col] = pd.to_numeric(pd.to_datetime(df_bis[col], format = \"%Y-%m-%d\"))\n"
   ]
  },
  {
   "cell_type": "code",
   "execution_count": 45,
   "metadata": {},
   "outputs": [],
   "source": [
    "relevant_variables2 = df_bis[['track_language_code', 'track_duration', 'track_date_created', 'artist_location', 'artist_name']]"
   ]
  },
  {
   "cell_type": "markdown",
   "metadata": {},
   "source": [
    "**To split our numerical values in 4 categories :\n",
    "We chose to use categories with different width but with the same number of points to be more relevant.**"
   ]
  },
  {
   "cell_type": "code",
   "execution_count": 47,
   "metadata": {},
   "outputs": [
    {
     "data": {
      "image/png": "[encoded data removed]",
      "text/plain": [
       "<Figure size 432x288 with 1 Axes>"
      ]
     },
     "metadata": {
      "needs_background": "light"
     },
     "output_type": "display_data"
    }
   ],
   "source": [
    "# 'track_duration' is integer/numerical variable so we have to make 4 categories \n",
    "relevant_variables2['track_duration'].hist(bins = 100)\n",
    "plt.show()\n"
   ]
  },
  {
   "cell_type": "code",
   "execution_count": 48,
   "metadata": {},
   "outputs": [
    {
     "name": "stdout",
     "output_type": "stream",
     "text": [
      "threshold_0 = 0\n",
      "threshold_1 = 149\n",
      "threshold_2 = 216\n",
      "threshold_3 = 305\n",
      "threshold_4 = 18350\n"
     ]
    },
    {
     "name": "stderr",
     "output_type": "stream",
     "text": [
      "C:\\Users\\aurel\\Downloads\\Anaconda3\\lib\\site-packages\\ipykernel_launcher.py:18: SettingWithCopyWarning: \n",
      "A value is trying to be set on a copy of a slice from a DataFrame.\n",
      "Try using .loc[row_indexer,col_indexer] = value instead\n",
      "\n",
      "See the caveats in the documentation: https://pandas.pydata.org/pandas-docs/stable/user_guide/indexing.html#returning-a-view-versus-a-copy\n",
      "C:\\Users\\aurel\\Downloads\\Anaconda3\\lib\\site-packages\\pandas\\core\\indexing.py:1732: SettingWithCopyWarning: \n",
      "A value is trying to be set on a copy of a slice from a DataFrame\n",
      "\n",
      "See the caveats in the documentation: https://pandas.pydata.org/pandas-docs/stable/user_guide/indexing.html#returning-a-view-versus-a-copy\n",
      "  self._setitem_single_block(indexer, value, name)\n"
     ]
    }
   ],
   "source": [
    "# 'track_date_created' is integer/numerical variable so we have to make 4 categories \n",
    "#relevant_variables['track_date_created'] = preprocessing.StandardScaler().fit_transform(relevant_variables[['track_date_created']].to_numpy())\n",
    "\n",
    "col = relevant_variables2['track_duration']\n",
    "\n",
    "threshold_0 = col.min()\n",
    "threshold_1 = sorted(col)[len(col)//4]\n",
    "threshold_2 = sorted(col)[len(col)//4 * 2]\n",
    "threshold_3 = sorted(col)[len(col)//4 * 3]\n",
    "threshold_4 = col.max()\n",
    "\n",
    "print(\"threshold_0 =\", threshold_0)\n",
    "print(\"threshold_1 =\",threshold_1)\n",
    "print(\"threshold_2 =\",threshold_2)\n",
    "print(\"threshold_3 =\",threshold_3)\n",
    "print(\"threshold_4 =\",threshold_4)\n",
    "\n",
    "relevant_variables2['track_duration_categories'] = 0\n",
    "relevant_variables2['track_duration_categories'].loc[(threshold_0 <= col) & (col < threshold_1)] = 1\n",
    "relevant_variables2['track_duration_categories'].loc[(threshold_1 <= col) & (col < threshold_2)] = 2\n",
    "relevant_variables2['track_duration_categories'].loc[(threshold_2 <= col) & (col < threshold_3)] = 3\n",
    "relevant_variables2['track_duration_categories'].loc[(threshold_3 <= col) & (col <= threshold_4)] = 4"
   ]
  },
  {
   "cell_type": "code",
   "execution_count": 50,
   "metadata": {},
   "outputs": [
    {
     "data": {
      "text/plain": [
       "<matplotlib.axes._subplots.AxesSubplot at 0x2253aa50e48>"
      ]
     },
     "execution_count": 50,
     "metadata": {},
     "output_type": "execute_result"
    },
    {
     "data": {
      "image/png": "[encoded data removed]",
      "text/plain": [
       "<Figure size 432x288 with 1 Axes>"
      ]
     },
     "metadata": {
      "needs_background": "light"
     },
     "output_type": "display_data"
    }
   ],
   "source": [
    "# 'track_date_created' is integer/numerical variable so we have to make 4 categories \n",
    "relevant_variables2['track_date_created'].hist(bins = 100)\n"
   ]
  },
  {
   "cell_type": "code",
   "execution_count": 87,
   "metadata": {},
   "outputs": [
    {
     "name": "stdout",
     "output_type": "stream",
     "text": [
      "2008-11-25 18:49:06\n",
      "2010-12-15 19:23:48\n",
      "2013-02-23 02:33:41\n",
      "2015-05-12 13:36:21\n",
      "2017-03-30 17:23:39\n"
     ]
    }
   ],
   "source": [
    "# 'track_date_created' is integer/numerical variable so we have to make 4 categories \n",
    "#relevant_variables['track_date_created'] = preprocessing.StandardScaler().fit_transform(relevant_variables[['track_date_created']].to_numpy())\n",
    "\n",
    "col = relevant_variables2['track_date_created']\n",
    "\n",
    "threshold_0 = col.min()\n",
    "threshold_1 = sorted(col)[len(col)//4]\n",
    "threshold_2 = sorted(col)[len(col)//4 * 2]\n",
    "threshold_3 = sorted(col)[len(col)//4 * 3]\n",
    "threshold_4 = col.max()\n",
    "\n",
    "print(datetime.datetime.fromtimestamp(threshold_0 / 1e9))\n",
    "print(datetime.datetime.fromtimestamp(threshold_1 / 1e9))\n",
    "print(datetime.datetime.fromtimestamp(threshold_2 / 1e9))\n",
    "print(datetime.datetime.fromtimestamp(threshold_3 / 1e9))\n",
    "print(datetime.datetime.fromtimestamp(threshold_4 / 1e9))\n",
    "\n",
    "\n",
    "relevant_variables2['track_date_created_categories'] = 0\n",
    "relevant_variables2['track_date_created_categories'].loc[(threshold_0 <= col) & (col < threshold_1)] = 1\n",
    "relevant_variables2['track_date_created_categories'].loc[(threshold_1 <= col) & (col < threshold_2)] = 2\n",
    "relevant_variables2['track_date_created_categories'].loc[(threshold_2 <= col) & (col < threshold_3)] = 3\n",
    "relevant_variables2['track_date_created_categories'].loc[(threshold_3 <= col) & (col <= threshold_4)] = 4"
   ]
  },
  {
   "cell_type": "markdown",
   "metadata": {},
   "source": [
    "#### add the prediction of the clusters"
   ]
  },
  {
   "cell_type": "code",
   "execution_count": 55,
   "metadata": {},
   "outputs": [],
   "source": [
    "kmeans_plus_labels = cluster.KMeans(n_clusters=7, init = 'k-means++').fit(Z2).labels_"
   ]
  },
  {
   "cell_type": "code",
   "execution_count": 56,
   "metadata": {},
   "outputs": [
    {
     "data": {
      "text/plain": [
       "array([0, 0, 0, ..., 4, 4, 4])"
      ]
     },
     "execution_count": 56,
     "metadata": {},
     "output_type": "execute_result"
    }
   ],
   "source": [
    "kmeans_plus_labels"
   ]
  },
  {
   "cell_type": "code",
   "execution_count": 67,
   "metadata": {},
   "outputs": [],
   "source": [
    "df_bis['pred_clusters'] = kmeans_plus_labels\n",
    "relevant_variables2['pred_clusters'] = kmeans_plus_labels\n",
    "relevant_variables2['track_id']= df_bis['track_id']"
   ]
  },
  {
   "cell_type": "markdown",
   "metadata": {},
   "source": [
    "#### Create the pivot tables"
   ]
  },
  {
   "cell_type": "code",
   "execution_count": 68,
   "metadata": {},
   "outputs": [],
   "source": [
    "variables = ['track_language_code', 'track_duration_categories', 'track_date_created_categories', 'artist_location', 'artist_name'] # \n",
    "pivot_tables = []\n",
    "for var in variables :\n",
    "    table = pd.pivot_table(relevant_variables2, index = var,  values= 'track_id',\n",
    "                           columns = ['pred_clusters'], aggfunc = 'count', fill_value=0)\n",
    "    table = table.apply(lambda col : col/sum(col)*100).round(2)\n",
    "    pivot_tables.append((var, table))\n",
    "    "
   ]
  },
  {
   "cell_type": "code",
   "execution_count": 69,
   "metadata": {
    "scrolled": false
   },
   "outputs": [
    {
     "name": "stdout",
     "output_type": "stream",
     "text": [
      "Pivot Tables of the variables : track_language_code \n",
      "\n",
      "pred_clusters            0      1      2      3      4      5      6\n",
      "track_language_code                                                 \n",
      "ar                    0.03    0.0   0.00   0.00   0.02   0.15   0.23\n",
      "az                    0.00    0.0   0.00   0.00   0.00   0.00   0.06\n",
      "bg                    0.00    0.0   0.00   0.00   0.00   0.44   0.03\n",
      "bm                    0.00    0.0   0.00   0.00   0.00   0.00   0.03\n",
      "cs                    0.00    0.0   0.00   0.00   0.09   0.07   0.00\n",
      "de                    0.20    0.0   0.43   0.17   0.07   2.12   0.61\n",
      "ee                    0.00    0.0   0.00   0.00   0.15   0.00   0.00\n",
      "el                    0.00    0.0   0.00   0.17   0.07   0.00   0.09\n",
      "en                   93.53  100.0  94.26  97.96  96.23  91.89  95.38\n",
      "es                    2.36    0.0   1.23   0.00   1.34   0.73   0.93\n",
      "eu                    0.00    0.0   0.00   0.00   0.00   0.00   0.03\n",
      "fi                    0.03    0.0   0.00   0.00   0.00   0.22   0.06\n",
      "fr                    1.98    0.0   1.17   1.36   0.83   1.90   0.93\n",
      "gu                    0.00    0.0   0.00   0.00   0.00   0.00   0.03\n",
      "ha                    0.00    0.0   0.00   0.00   0.00   0.00   0.03\n",
      "he                    0.12    0.0   0.25   0.00   0.00   0.15   0.06\n",
      "hi                    0.00    0.0   0.00   0.00   0.00   0.00   0.09\n",
      "hy                    0.00    0.0   0.00   0.00   0.00   0.07   0.03\n",
      "id                    0.03    0.0   0.00   0.00   0.00   0.00   0.06\n",
      "it                    0.17    0.0   0.19   0.00   0.26   0.37   0.06\n",
      "ja                    0.09    0.0   0.06   0.00   0.02   0.07   0.00\n",
      "ka                    0.00    0.0   0.00   0.00   0.00   0.00   0.03\n",
      "ko                    0.00    0.0   0.00   0.00   0.02   0.00   0.00\n",
      "la                    0.00    0.0   0.00   0.00   0.00   0.07   0.00\n",
      "lt                    0.00    0.0   0.00   0.00   0.00   0.00   0.03\n",
      "ms                    0.00    0.0   0.00   0.00   0.00   0.00   0.06\n",
      "my                    0.00    0.0   0.00   0.00   0.00   0.00   0.03\n",
      "nl                    0.00    0.0   0.00   0.00   0.02   0.07   0.09\n",
      "no                    0.00    0.0   0.00   0.00   0.00   0.00   0.03\n",
      "pl                    0.06    0.0   0.12   0.00   0.00   0.37   0.09\n",
      "pt                    1.22    0.0   0.93   0.17   0.18   0.88   0.09\n",
      "ru                    0.03    0.0   0.74   0.17   0.15   0.22   0.17\n",
      "sk                    0.00    0.0   0.00   0.00   0.00   0.00   0.03\n",
      "sr                    0.06    0.0   0.49   0.00   0.26   0.00   0.03\n",
      "sw                    0.00    0.0   0.00   0.00   0.00   0.00   0.17\n",
      "th                    0.00    0.0   0.00   0.00   0.00   0.07   0.00\n",
      "tl                    0.00    0.0   0.00   0.00   0.00   0.00   0.03\n",
      "tr                    0.09    0.0   0.12   0.00   0.24   0.07   0.23\n",
      "tw                    0.00    0.0   0.00   0.00   0.00   0.00   0.03\n",
      "ty                    0.00    0.0   0.00   0.00   0.00   0.00   0.03\n",
      "uk                    0.00    0.0   0.00   0.00   0.00   0.00   0.03\n",
      "uz                    0.00    0.0   0.00   0.00   0.00   0.00   0.03\n",
      "vi                    0.00    0.0   0.00   0.00   0.00   0.07   0.03\n",
      "zh                    0.00    0.0   0.00   0.00   0.04   0.00   0.03 \n",
      "\n",
      "\n",
      "\n",
      "Pivot Tables of the variables : track_duration_categories \n",
      "\n",
      "pred_clusters                  0     1      2      3      4      5      6\n",
      "track_duration_categories                                                \n",
      "1                          15.16  40.0  16.42  57.61  30.13  23.30  28.90\n",
      "2                          23.53  20.0  24.10  15.20  28.41  20.87  26.47\n",
      "3                          29.97  20.0  30.17  13.25  22.82  23.08  22.65\n",
      "4                          31.34  20.0  29.31  13.94  18.64  32.75  21.98 \n",
      "\n",
      "\n",
      "\n",
      "Pivot Tables of the variables : track_date_created_categories \n",
      "\n",
      "pred_clusters                      0     1      2      3      4      5      6\n",
      "track_date_created_categories                                                \n",
      "1                              27.61  80.0  18.95  23.78  27.37  21.06  26.30\n",
      "2                              25.40   0.0  23.49  21.68  27.10  23.67  24.50\n",
      "3                              24.60  20.0  27.52  28.50  23.59  26.48  23.72\n",
      "4                              22.38   0.0  30.04  26.04  21.95  28.78  25.48 \n",
      "\n",
      "\n",
      "\n",
      "Pivot Tables of the variables : artist_location \n",
      "\n",
      "pred_clusters                             0    1     2     3     4     5     6\n",
      "artist_location                                                               \n",
      " \\t\\n\\nSeattle, WA USA                 0.02  0.0  0.07  0.00  0.00  0.01  0.00\n",
      " \\t\\n\\nStow, OH USA                    0.05  0.0  0.03  0.20  0.07  0.01  0.01\n",
      " Edmonton, Alberta, Canada.            0.00  0.0  0.03  0.00  0.01  0.00  0.01\n",
      " Kiel & Cologne / Germany              0.09  0.0  0.18  0.24  0.12  0.01  0.16\n",
      " Madrid, Spain                         0.01  0.0  0.00  0.00  0.00  0.00  0.00\n",
      "...                                     ...  ...   ...   ...   ...   ...   ...\n",
      "Αθήνα (Athens), Greece                 0.00  0.0  0.00  0.00  0.01  0.00  0.00\n",
      "Θεσσαλονίκη, Greece                    0.01  0.0  0.02  0.00  0.05  0.00  0.01\n",
      "город Москва, Russia                   0.00  0.0  0.00  0.00  0.03  0.00  0.00\n",
      "город Новосибирск, Russian Federation  0.03  0.0  0.07  0.00  0.03  0.00  0.02\n",
      "三重県\\nJapan                             0.02  0.0  0.01  0.00  0.00  0.04  0.00\n",
      "\n",
      "[2329 rows x 7 columns] \n",
      "\n",
      "\n",
      "\n",
      "Pivot Tables of the variables : artist_name \n",
      "\n",
      "pred_clusters          0    1     2    3    4     5    6\n",
      "artist_name                                             \n",
      "\"Blue\" Gene Tyranny  0.0  0.0  0.00  0.0  0.0  0.00  0.0\n",
      "\"V\"                  0.0  0.0  0.00  0.0  0.0  0.00  0.0\n",
      "#CCmixtape           0.0  0.0  0.00  0.0  0.0  0.01  0.0\n",
      "$50 Trumpet          0.0  0.0  0.00  0.0  0.0  0.00  0.0\n",
      "'Gene Green          0.0  0.0  0.00  0.0  0.0  0.00  0.0\n",
      "...                  ...  ...   ...  ...  ...   ...  ...\n",
      "死夢VANITY             0.0  0.0  0.01  0.0  0.0  0.00  0.0\n",
      "猫 シ Corp.            0.0  0.0  0.00  0.0  0.0  0.00  0.0\n",
      "骨架的                  0.0  0.0  0.00  0.0  0.0  0.00  0.0\n",
      "黒電話666               0.0  0.0  0.01  0.0  0.0  0.00  0.0\n",
      "회사AUTO               0.0  0.0  0.00  0.0  0.0  0.00  0.0\n",
      "\n",
      "[16294 rows x 7 columns] \n",
      "\n",
      "\n",
      "\n"
     ]
    }
   ],
   "source": [
    "for i in range(len(variables)):\n",
    "    print('Pivot Tables of the variables :', pivot_tables[i][0], '\\n')\n",
    "    print(pivot_tables[i][1], '\\n\\n\\n')"
   ]
  },
  {
   "cell_type": "markdown",
   "metadata": {},
   "source": [
    "### Compared to the previous exercise, we have some close results\n",
    "\n",
    "##### Pivot Table of the variable : track_language_code \n",
    "    \n",
    "- English songs (en) represent a great majority of songs in each clusters **as previously**\n",
    "- Cluster 1 is only composed of english songs (100%)\n",
    "- Some languages are in the only one cluster \n",
    "    \n",
    "  So it means that the songs of **those language are rather easy to classify**.\n",
    "  \n",
    "\n",
    "##### Pivot Table of the variable : track_duration_categories \n",
    "\n",
    "As we saw previously, in each cluster the distributions of the duration of songs are different. Some clusters tend to have shorter songs than others. For example, here clusters 0 and 2 tend to have longer songs than cluster 1 and 3, while others have distrubtion more uniform...\n",
    "\n",
    "\n",
    "##### Pivot Table of the variable : track_date_created_categories \n",
    "\n",
    "For this table, the cluster 1 is obviously composed of older songs than the other or at least have more \"old songs\".\n",
    "Moreover, clusters 0 and 4, for example, have more older songs than clusters 2, 3 and 5 but 6 is more distributed.  \n",
    "\n",
    "SO there are differences of date distribution between the clusters as we saw inthe previous exercise\n",
    "\n",
    "\n",
    "##### Pivot Tables of the variables : artist_location  and  artist_name \n",
    "\n",
    "For these variables, it is more difficult to conclude. Indeed, there are too many different locations and singers to see well the trends for each clusters. However, we can still see that one artist is often attached to only one cluster while for the location it is less obvious..."
   ]
  },
  {
   "cell_type": "code",
   "execution_count": 71,
   "metadata": {},
   "outputs": [
    {
     "name": "stdout",
     "output_type": "stream",
     "text": [
      "pred_clusters           0     2    3     4     5     6\n",
      "track_genre_top                                       \n",
      "Blues                  21    16    0    16    17    40\n",
      "Classical              25    26    1    15   618   545\n",
      "Country                35    23    2    66    11    57\n",
      "Easy Listening         13     3    0     1     3     4\n",
      "Electronic           3758  2051  448  1814   570   731\n",
      "Experimental         2451  1303  951  2585  1218  2100\n",
      "Folk                  212   268   30   245   510  1538\n",
      "Hip-Hop              1952   685   46   738    58    73\n",
      "Instrumental          181   321   84   283   426   784\n",
      "International         416   116    9   187   234   427\n",
      "Jazz                  133    72    5    66   160   135\n",
      "Old-Time / Historic     0     2    0     7    43   502\n",
      "Pop                   533   352  164   582   206   495\n",
      "Rock                 1199  1793  601  8602   240  1747\n",
      "Soul-RnB               85    27    0    48    10     5\n",
      "Spoken                260    16    3    57    27    60\n"
     ]
    }
   ],
   "source": [
    "table = pd.pivot_table(df_bis, index = 'track_genre_top',  values= 'track_id',\n",
    "                           columns = ['pred_clusters'], aggfunc = 'count', fill_value=0)\n",
    "print(table)"
   ]
  },
  {
   "cell_type": "markdown",
   "metadata": {},
   "source": [
    "##### Pivot Tables of the variables : track_genre_top\n",
    "\n",
    "To compare the obtained clusters to the reality genre, we compute the pivot table (numbers and percentages) between clusters and the variable **\"track_genre_top\"**\n",
    "\n",
    "Here, contrary to previously, we can see that the genres are less well grouped in a single cluster, except Old-Time / Historic Classical, Spoken...\n",
    "\n",
    "**So we can conclude that it is not always better to have more observations/samples if the numbers of features is too low or if these features are not relevant enough. Indeed, we had best results with our Kmeans with fewer rows (13K) but more features. So it could be better to have fewer observations with more feature or rather more relevant features. I must add that it would be also better to have non-numerical features with fewer different categories, I mean if we have too many different categories for a feature, it will not give us much information as can we saw with 'location' and 'artist' variables.**\n"
   ]
  },
  {
   "cell_type": "markdown",
   "metadata": {},
   "source": [
    "## 3. Algorithmic questions"
   ]
  },
  {
   "cell_type": "code",
   "execution_count": 10,
   "metadata": {},
   "outputs": [],
   "source": [
    "def pairs(A,s):\n",
    "    res=[]\n",
    "    for i in range(len(A)):\n",
    "        for j in range(i+1, len(A)):\n",
    "            if A[i]+A[j] == s:\n",
    "                res.append((A[i],A[j]))\n",
    "    return res"
   ]
  },
  {
   "cell_type": "code",
   "execution_count": 11,
   "metadata": {},
   "outputs": [
    {
     "name": "stdout",
     "output_type": "stream",
     "text": [
      "(7, -3) (-2, 6) (2, 2) (1, 3)\n"
     ]
    }
   ],
   "source": [
    "A = [7, -2, 8, 2, 6, 4, -7, 2, 1, 3, -3] \n",
    "s = 4\n",
    "\n",
    "print(*pairs(A,s))"
   ]
  }
 ],
 "metadata": {
  "kernelspec": {
   "display_name": "Python 3",
   "language": "python",
   "name": "python3"
  }
 },
 "nbformat": 4,
 "nbformat_minor": 2
}
